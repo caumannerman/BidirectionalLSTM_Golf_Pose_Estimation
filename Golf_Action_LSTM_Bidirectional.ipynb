{
 "cells": [
  {
   "cell_type": "code",
   "execution_count": 1,
   "metadata": {},
   "outputs": [],
   "source": [
    "import numpy as np\n",
    "import tensorflow as tf\n",
    "import pandas as pd\n",
    "from tensorflow.keras.models import Sequential, Model\n",
    "from tensorflow.keras.layers import LSTM, Flatten, Dense, Dropout, RNN, Input, TimeDistributed, Bidirectional\n",
    "import matplotlib.pyplot as plt"
   ]
  },
  {
   "cell_type": "code",
   "execution_count": 2,
   "metadata": {},
   "outputs": [],
   "source": [
    "lst = np.load(\"dataset.npz\")"
   ]
  },
  {
   "cell_type": "code",
   "execution_count": 3,
   "metadata": {},
   "outputs": [
    {
     "name": "stdout",
     "output_type": "stream",
     "text": [
      "6\n"
     ]
    }
   ],
   "source": [
    "print(len(list(lst)))"
   ]
  },
  {
   "cell_type": "code",
   "execution_count": 4,
   "metadata": {},
   "outputs": [
    {
     "name": "stdout",
     "output_type": "stream",
     "text": [
      "['x_train', 'y_train', 'x_test', 'y_test', 'box_train', 'box_test']\n"
     ]
    }
   ],
   "source": [
    "print(list(lst.keys()))"
   ]
  },
  {
   "cell_type": "code",
   "execution_count": 5,
   "metadata": {},
   "outputs": [],
   "source": [
    "x_train = lst['x_train']\n",
    "y_train = lst['y_train']\n",
    "x_test = lst['x_test']\n",
    "y_test = lst['y_test']\n",
    "box_train = lst['box_train']\n",
    "box_test = lst['box_test']"
   ]
  },
  {
   "cell_type": "code",
   "execution_count": 6,
   "metadata": {
    "scrolled": false
   },
   "outputs": [
    {
     "name": "stdout",
     "output_type": "stream",
     "text": [
      "(10597, 120, 34)\n",
      "(10597, 120, 17)\n",
      "(10597, 4)\n",
      "(1178, 120, 34)\n"
     ]
    }
   ],
   "source": [
    "print(x_train.shape)\n",
    "print(y_train.shape)\n",
    "print(box_train.shape)\n",
    "print(x_test.shape)"
   ]
  },
  {
   "cell_type": "code",
   "execution_count": 7,
   "metadata": {},
   "outputs": [
    {
     "name": "stdout",
     "output_type": "stream",
     "text": [
      "(10597, 120, 34) (10597, 120, 17)\n"
     ]
    }
   ],
   "source": [
    "print(x_train.shape, y_train.shape)"
   ]
  },
  {
   "cell_type": "code",
   "execution_count": 8,
   "metadata": {},
   "outputs": [
    {
     "name": "stdout",
     "output_type": "stream",
     "text": [
      "(1178, 120, 34) (1178, 120, 17)\n"
     ]
    }
   ],
   "source": [
    "print(x_test.shape, y_test.shape)"
   ]
  },
  {
   "cell_type": "code",
   "execution_count": 9,
   "metadata": {},
   "outputs": [
    {
     "name": "stdout",
     "output_type": "stream",
     "text": [
      "(10597, 4) (1178, 4)\n"
     ]
    }
   ],
   "source": [
    "print(box_train.shape, box_test.shape)"
   ]
  },
  {
   "cell_type": "code",
   "execution_count": 10,
   "metadata": {},
   "outputs": [
    {
     "data": {
      "text/plain": [
       "(120, 17)"
      ]
     },
     "execution_count": 10,
     "metadata": {},
     "output_type": "execute_result"
    }
   ],
   "source": [
    "y_train[0].shape"
   ]
  },
  {
   "cell_type": "code",
   "execution_count": 11,
   "metadata": {},
   "outputs": [
    {
     "data": {
      "text/plain": [
       "array([[0., 1., 0., 0., 0., 0., 0., 0., 0., 0., 0., 0., 0., 0., 0., 0.,\n",
       "        0.],\n",
       "       [0., 0., 0., 1., 0., 0., 0., 0., 0., 0., 0., 0., 0., 0., 0., 0.,\n",
       "        0.],\n",
       "       [0., 0., 0., 0., 1., 0., 0., 0., 0., 0., 0., 0., 0., 0., 0., 0.,\n",
       "        0.],\n",
       "       [0., 0., 0., 0., 1., 0., 0., 0., 0., 0., 0., 0., 0., 0., 0., 0.,\n",
       "        0.],\n",
       "       [0., 0., 0., 0., 1., 0., 0., 0., 0., 0., 0., 0., 0., 0., 0., 0.,\n",
       "        0.],\n",
       "       [0., 0., 0., 0., 1., 0., 0., 0., 0., 0., 0., 0., 0., 0., 0., 0.,\n",
       "        0.],\n",
       "       [0., 0., 0., 0., 1., 0., 0., 0., 0., 0., 0., 0., 0., 0., 0., 0.,\n",
       "        0.],\n",
       "       [0., 0., 0., 0., 1., 0., 0., 0., 0., 0., 0., 0., 0., 0., 0., 0.,\n",
       "        0.],\n",
       "       [0., 0., 0., 0., 1., 0., 0., 0., 0., 0., 0., 0., 0., 0., 0., 0.,\n",
       "        0.],\n",
       "       [0., 0., 0., 0., 1., 0., 0., 0., 0., 0., 0., 0., 0., 0., 0., 0.,\n",
       "        0.]], dtype=float32)"
      ]
     },
     "execution_count": 11,
     "metadata": {},
     "output_type": "execute_result"
    }
   ],
   "source": [
    "y_train[0,:10]"
   ]
  },
  {
   "cell_type": "code",
   "execution_count": 12,
   "metadata": {},
   "outputs": [
    {
     "data": {
      "text/plain": [
       "(10597, 120, 17)"
      ]
     },
     "execution_count": 12,
     "metadata": {},
     "output_type": "execute_result"
    }
   ],
   "source": [
    "y_train.shape"
   ]
  },
  {
   "cell_type": "code",
   "execution_count": 13,
   "metadata": {
    "scrolled": true
   },
   "outputs": [
    {
     "name": "stdout",
     "output_type": "stream",
     "text": [
      "(10597, 120, 34) (10597, 120, 17)\n"
     ]
    }
   ],
   "source": [
    "print(x_train.shape, y_train.shape)"
   ]
  },
  {
   "cell_type": "code",
   "execution_count": 14,
   "metadata": {},
   "outputs": [
    {
     "name": "stdout",
     "output_type": "stream",
     "text": [
      "(1178, 120, 34) (1178, 120, 17)\n"
     ]
    }
   ],
   "source": [
    "print(x_test.shape, y_test.shape)"
   ]
  },
  {
   "cell_type": "code",
   "execution_count": 15,
   "metadata": {},
   "outputs": [
    {
     "name": "stdout",
     "output_type": "stream",
     "text": [
      "(10597, 120, 17)\n"
     ]
    }
   ],
   "source": [
    "#y_train = np.argmax(y_train, axis = 2)\n",
    "print(y_train.shape)"
   ]
  },
  {
   "cell_type": "code",
   "execution_count": 16,
   "metadata": {},
   "outputs": [
    {
     "data": {
      "text/plain": [
       "(1178, 120, 17)"
      ]
     },
     "execution_count": 16,
     "metadata": {},
     "output_type": "execute_result"
    }
   ],
   "source": [
    "y_test.shape"
   ]
  },
  {
   "cell_type": "code",
   "execution_count": 17,
   "metadata": {},
   "outputs": [
    {
     "name": "stdout",
     "output_type": "stream",
     "text": [
      "(1178, 120, 17)\n"
     ]
    }
   ],
   "source": [
    "#y_test = np.argmax(y_test, axis=2)\n",
    "\n",
    "print(y_test.shape)"
   ]
  },
  {
   "cell_type": "code",
   "execution_count": 18,
   "metadata": {},
   "outputs": [
    {
     "data": {
      "text/plain": [
       "array([[0., 1., 0., ..., 0., 0., 0.],\n",
       "       [0., 0., 0., ..., 0., 0., 0.],\n",
       "       [0., 0., 0., ..., 0., 0., 0.],\n",
       "       ...,\n",
       "       [0., 0., 0., ..., 0., 0., 1.],\n",
       "       [0., 0., 0., ..., 0., 0., 1.],\n",
       "       [0., 0., 0., ..., 0., 0., 1.]], dtype=float32)"
      ]
     },
     "execution_count": 18,
     "metadata": {},
     "output_type": "execute_result"
    }
   ],
   "source": [
    "y_train[0]"
   ]
  },
  {
   "cell_type": "markdown",
   "metadata": {},
   "source": [
    "# model 구축"
   ]
  },
  {
   "cell_type": "code",
   "execution_count": 19,
   "metadata": {},
   "outputs": [
    {
     "name": "stdout",
     "output_type": "stream",
     "text": [
      "Model: \"model\"\n",
      "_________________________________________________________________\n",
      "Layer (type)                 Output Shape              Param #   \n",
      "=================================================================\n",
      "input_1 (InputLayer)         [(None, 120, 34)]         0         \n",
      "_________________________________________________________________\n",
      "bidirectional (Bidirectional (None, 120, 34)           7072      \n",
      "_________________________________________________________________\n",
      "time_distributed (TimeDistri (None, 120, 17)           595       \n",
      "=================================================================\n",
      "Total params: 7,667\n",
      "Trainable params: 7,667\n",
      "Non-trainable params: 0\n",
      "_________________________________________________________________\n"
     ]
    }
   ],
   "source": [
    "xInput = Input(batch_shape=(None,120,34))\n",
    "xBiLstm = Bidirectional(LSTM(17, return_sequences=True), merge_mode='concat')(xInput)\n",
    "xOutput = TimeDistributed(Dense(17))(xBiLstm)\n",
    "model = Model(xInput, xOutput)\n",
    "model.summary()"
   ]
  },
  {
   "cell_type": "code",
   "execution_count": 20,
   "metadata": {},
   "outputs": [],
   "source": [
    "from tensorflow.keras.callbacks import EarlyStopping"
   ]
  },
  {
   "cell_type": "code",
   "execution_count": 21,
   "metadata": {},
   "outputs": [
    {
     "name": "stdout",
     "output_type": "stream",
     "text": [
      "Epoch 1/1000\n",
      "166/166 [==============================] - 7s 32ms/step - loss: 0.0555 - mae: 0.1377 - accuracy: 0.4435 - val_loss: 0.0330 - val_mae: 0.0868 - val_accuracy: 0.5864\n",
      "Epoch 2/1000\n",
      "166/166 [==============================] - 4s 27ms/step - loss: 0.0320 - mae: 0.0839 - accuracy: 0.5928 - val_loss: 0.0295 - val_mae: 0.0784 - val_accuracy: 0.6267\n",
      "Epoch 3/1000\n",
      "166/166 [==============================] - 4s 26ms/step - loss: 0.0290 - mae: 0.0760 - accuracy: 0.6272 - val_loss: 0.0282 - val_mae: 0.0737 - val_accuracy: 0.6390\n",
      "Epoch 4/1000\n",
      "166/166 [==============================] - 4s 26ms/step - loss: 0.0279 - mae: 0.0725 - accuracy: 0.6392 - val_loss: 0.0273 - val_mae: 0.0710 - val_accuracy: 0.6472\n",
      "Epoch 5/1000\n",
      "166/166 [==============================] - 5s 27ms/step - loss: 0.0270 - mae: 0.0692 - accuracy: 0.6502 - val_loss: 0.0268 - val_mae: 0.0664 - val_accuracy: 0.6498\n",
      "Epoch 6/1000\n",
      "166/166 [==============================] - 4s 27ms/step - loss: 0.0265 - mae: 0.0669 - accuracy: 0.6528 - val_loss: 0.0261 - val_mae: 0.0652 - val_accuracy: 0.6572\n",
      "Epoch 7/1000\n",
      "166/166 [==============================] - 4s 27ms/step - loss: 0.0261 - mae: 0.0650 - accuracy: 0.6577 - val_loss: 0.0259 - val_mae: 0.0629 - val_accuracy: 0.6639\n",
      "Epoch 8/1000\n",
      "166/166 [==============================] - 5s 28ms/step - loss: 0.0258 - mae: 0.0635 - accuracy: 0.6619 - val_loss: 0.0256 - val_mae: 0.0621 - val_accuracy: 0.6704\n",
      "Epoch 9/1000\n",
      "166/166 [==============================] - 4s 26ms/step - loss: 0.0255 - mae: 0.0625 - accuracy: 0.6671 - val_loss: 0.0253 - val_mae: 0.0628 - val_accuracy: 0.6721\n",
      "Epoch 10/1000\n",
      "166/166 [==============================] - 4s 26ms/step - loss: 0.0253 - mae: 0.0620 - accuracy: 0.6734 - val_loss: 0.0251 - val_mae: 0.0619 - val_accuracy: 0.6935\n",
      "Epoch 11/1000\n",
      "166/166 [==============================] - 5s 27ms/step - loss: 0.0250 - mae: 0.0617 - accuracy: 0.6861 - val_loss: 0.0243 - val_mae: 0.0608 - val_accuracy: 0.7048\n",
      "Epoch 12/1000\n",
      "166/166 [==============================] - 5s 27ms/step - loss: 0.0242 - mae: 0.0603 - accuracy: 0.7007 - val_loss: 0.0237 - val_mae: 0.0576 - val_accuracy: 0.7151\n",
      "Epoch 13/1000\n",
      "166/166 [==============================] - 4s 27ms/step - loss: 0.0240 - mae: 0.0588 - accuracy: 0.7026 - val_loss: 0.0230 - val_mae: 0.0567 - val_accuracy: 0.7221\n",
      "Epoch 14/1000\n",
      "166/166 [==============================] - 4s 26ms/step - loss: 0.0232 - mae: 0.0567 - accuracy: 0.7161 - val_loss: 0.0230 - val_mae: 0.0567 - val_accuracy: 0.7190\n",
      "Epoch 15/1000\n",
      "166/166 [==============================] - 4s 26ms/step - loss: 0.0229 - mae: 0.0559 - accuracy: 0.7203 - val_loss: 0.0225 - val_mae: 0.0556 - val_accuracy: 0.7275\n",
      "Epoch 16/1000\n",
      "166/166 [==============================] - 4s 26ms/step - loss: 0.0230 - mae: 0.0559 - accuracy: 0.7168 - val_loss: 0.0230 - val_mae: 0.0549 - val_accuracy: 0.7194\n",
      "Epoch 17/1000\n",
      "166/166 [==============================] - 4s 26ms/step - loss: 0.0230 - mae: 0.0557 - accuracy: 0.7167 - val_loss: 0.0223 - val_mae: 0.0547 - val_accuracy: 0.7297\n",
      "Epoch 18/1000\n",
      "166/166 [==============================] - 4s 26ms/step - loss: 0.0224 - mae: 0.0546 - accuracy: 0.7259 - val_loss: 0.0220 - val_mae: 0.0537 - val_accuracy: 0.7339\n",
      "Epoch 19/1000\n",
      "166/166 [==============================] - 4s 26ms/step - loss: 0.0223 - mae: 0.0542 - accuracy: 0.7262 - val_loss: 0.0224 - val_mae: 0.0547 - val_accuracy: 0.7276\n",
      "Epoch 20/1000\n",
      "166/166 [==============================] - 4s 27ms/step - loss: 0.0225 - mae: 0.0545 - accuracy: 0.7254 - val_loss: 0.0222 - val_mae: 0.0533 - val_accuracy: 0.7279\n",
      "Epoch 21/1000\n",
      "166/166 [==============================] - 4s 27ms/step - loss: 0.0225 - mae: 0.0540 - accuracy: 0.7244 - val_loss: 0.0218 - val_mae: 0.0530 - val_accuracy: 0.7353\n",
      "Epoch 22/1000\n",
      "166/166 [==============================] - 4s 27ms/step - loss: 0.0220 - mae: 0.0530 - accuracy: 0.7315 - val_loss: 0.0216 - val_mae: 0.0528 - val_accuracy: 0.7396\n",
      "Epoch 23/1000\n",
      "166/166 [==============================] - 4s 27ms/step - loss: 0.0220 - mae: 0.0532 - accuracy: 0.7299 - val_loss: 0.0215 - val_mae: 0.0527 - val_accuracy: 0.7387\n",
      "Epoch 24/1000\n",
      "166/166 [==============================] - 4s 26ms/step - loss: 0.0217 - mae: 0.0526 - accuracy: 0.7339 - val_loss: 0.0215 - val_mae: 0.0520 - val_accuracy: 0.7380\n",
      "Epoch 25/1000\n",
      "166/166 [==============================] - 4s 27ms/step - loss: 0.0217 - mae: 0.0523 - accuracy: 0.7333 - val_loss: 0.0221 - val_mae: 0.0527 - val_accuracy: 0.7289\n",
      "Epoch 26/1000\n",
      "166/166 [==============================] - 4s 27ms/step - loss: 0.0216 - mae: 0.0523 - accuracy: 0.7338 - val_loss: 0.0214 - val_mae: 0.0521 - val_accuracy: 0.7375\n",
      "Epoch 27/1000\n",
      "166/166 [==============================] - 5s 27ms/step - loss: 0.0213 - mae: 0.0514 - accuracy: 0.7376 - val_loss: 0.0213 - val_mae: 0.0523 - val_accuracy: 0.7391\n",
      "Epoch 28/1000\n",
      "166/166 [==============================] - 4s 27ms/step - loss: 0.0214 - mae: 0.0517 - accuracy: 0.7376 - val_loss: 0.0211 - val_mae: 0.0507 - val_accuracy: 0.7425\n",
      "Epoch 29/1000\n",
      "166/166 [==============================] - 4s 27ms/step - loss: 0.0214 - mae: 0.0514 - accuracy: 0.7360 - val_loss: 0.0209 - val_mae: 0.0505 - val_accuracy: 0.7454\n",
      "Epoch 30/1000\n",
      "166/166 [==============================] - 5s 28ms/step - loss: 0.0212 - mae: 0.0511 - accuracy: 0.7385 - val_loss: 0.0209 - val_mae: 0.0503 - val_accuracy: 0.7457\n",
      "Epoch 31/1000\n",
      "166/166 [==============================] - 5s 29ms/step - loss: 0.0212 - mae: 0.0508 - accuracy: 0.7383 - val_loss: 0.0208 - val_mae: 0.0506 - val_accuracy: 0.7454\n",
      "Epoch 32/1000\n",
      "166/166 [==============================] - 4s 26ms/step - loss: 0.0209 - mae: 0.0503 - accuracy: 0.7425 - val_loss: 0.0212 - val_mae: 0.0509 - val_accuracy: 0.7391\n",
      "Epoch 33/1000\n",
      "166/166 [==============================] - 4s 26ms/step - loss: 0.0208 - mae: 0.0502 - accuracy: 0.7432 - val_loss: 0.0209 - val_mae: 0.0507 - val_accuracy: 0.7441\n",
      "Epoch 34/1000\n",
      "166/166 [==============================] - 5s 27ms/step - loss: 0.0209 - mae: 0.0502 - accuracy: 0.7423 - val_loss: 0.0206 - val_mae: 0.0497 - val_accuracy: 0.7478\n",
      "Epoch 35/1000\n",
      "166/166 [==============================] - 5s 27ms/step - loss: 0.0208 - mae: 0.0499 - accuracy: 0.7435 - val_loss: 0.0207 - val_mae: 0.0502 - val_accuracy: 0.7453\n",
      "Epoch 36/1000\n",
      "166/166 [==============================] - 5s 28ms/step - loss: 0.0206 - mae: 0.0495 - accuracy: 0.7459 - val_loss: 0.0208 - val_mae: 0.0497 - val_accuracy: 0.7455\n",
      "Epoch 37/1000\n",
      "166/166 [==============================] - 4s 27ms/step - loss: 0.0206 - mae: 0.0494 - accuracy: 0.7452 - val_loss: 0.0204 - val_mae: 0.0491 - val_accuracy: 0.7495\n",
      "Epoch 38/1000\n",
      "166/166 [==============================] - 4s 27ms/step - loss: 0.0203 - mae: 0.0489 - accuracy: 0.7489 - val_loss: 0.0203 - val_mae: 0.0490 - val_accuracy: 0.7507\n",
      "Epoch 39/1000\n",
      "166/166 [==============================] - 4s 27ms/step - loss: 0.0205 - mae: 0.0490 - accuracy: 0.7471 - val_loss: 0.0205 - val_mae: 0.0494 - val_accuracy: 0.7482\n",
      "Epoch 40/1000\n",
      "166/166 [==============================] - 4s 27ms/step - loss: 0.0205 - mae: 0.0490 - accuracy: 0.7467 - val_loss: 0.0203 - val_mae: 0.0489 - val_accuracy: 0.7512\n",
      "Epoch 41/1000\n",
      "166/166 [==============================] - 4s 27ms/step - loss: 0.0204 - mae: 0.0489 - accuracy: 0.7471 - val_loss: 0.0203 - val_mae: 0.0487 - val_accuracy: 0.7498\n",
      "Epoch 42/1000\n",
      "166/166 [==============================] - 4s 27ms/step - loss: 0.0205 - mae: 0.0489 - accuracy: 0.7456 - val_loss: 0.0204 - val_mae: 0.0491 - val_accuracy: 0.7490\n",
      "Epoch 43/1000\n",
      "166/166 [==============================] - 4s 27ms/step - loss: 0.0203 - mae: 0.0485 - accuracy: 0.7482 - val_loss: 0.0202 - val_mae: 0.0475 - val_accuracy: 0.7527\n",
      "Epoch 44/1000\n",
      "166/166 [==============================] - 4s 27ms/step - loss: 0.0202 - mae: 0.0484 - accuracy: 0.7498 - val_loss: 0.0202 - val_mae: 0.0481 - val_accuracy: 0.7512\n",
      "Epoch 45/1000\n",
      "166/166 [==============================] - 4s 27ms/step - loss: 0.0202 - mae: 0.0482 - accuracy: 0.7505 - val_loss: 0.0200 - val_mae: 0.0477 - val_accuracy: 0.7560\n",
      "Epoch 46/1000\n",
      "166/166 [==============================] - 4s 27ms/step - loss: 0.0202 - mae: 0.0480 - accuracy: 0.7503 - val_loss: 0.0199 - val_mae: 0.0472 - val_accuracy: 0.7553\n",
      "Epoch 47/1000\n"
     ]
    },
    {
     "name": "stdout",
     "output_type": "stream",
     "text": [
      "166/166 [==============================] - 4s 26ms/step - loss: 0.0202 - mae: 0.0482 - accuracy: 0.7486 - val_loss: 0.0208 - val_mae: 0.0486 - val_accuracy: 0.7451\n",
      "Epoch 48/1000\n",
      "166/166 [==============================] - 4s 26ms/step - loss: 0.0202 - mae: 0.0480 - accuracy: 0.7500 - val_loss: 0.0202 - val_mae: 0.0482 - val_accuracy: 0.7515\n",
      "Epoch 49/1000\n",
      "166/166 [==============================] - 4s 26ms/step - loss: 0.0198 - mae: 0.0474 - accuracy: 0.7555 - val_loss: 0.0201 - val_mae: 0.0479 - val_accuracy: 0.7535\n",
      "Epoch 50/1000\n",
      "166/166 [==============================] - 4s 26ms/step - loss: 0.0200 - mae: 0.0478 - accuracy: 0.7522 - val_loss: 0.0202 - val_mae: 0.0472 - val_accuracy: 0.7519\n",
      "Epoch 51/1000\n",
      "166/166 [==============================] - 4s 26ms/step - loss: 0.0199 - mae: 0.0473 - accuracy: 0.7546 - val_loss: 0.0198 - val_mae: 0.0475 - val_accuracy: 0.7574\n",
      "Epoch 52/1000\n",
      "166/166 [==============================] - 4s 26ms/step - loss: 0.0199 - mae: 0.0474 - accuracy: 0.7536 - val_loss: 0.0207 - val_mae: 0.0479 - val_accuracy: 0.7445\n",
      "Epoch 53/1000\n",
      "166/166 [==============================] - 4s 26ms/step - loss: 0.0200 - mae: 0.0478 - accuracy: 0.7521 - val_loss: 0.0198 - val_mae: 0.0470 - val_accuracy: 0.7578\n",
      "Epoch 54/1000\n",
      "166/166 [==============================] - 4s 26ms/step - loss: 0.0199 - mae: 0.0472 - accuracy: 0.7527 - val_loss: 0.0197 - val_mae: 0.0469 - val_accuracy: 0.7593\n",
      "Epoch 55/1000\n",
      "166/166 [==============================] - 4s 26ms/step - loss: 0.0198 - mae: 0.0471 - accuracy: 0.7557 - val_loss: 0.0199 - val_mae: 0.0479 - val_accuracy: 0.7550\n",
      "Epoch 56/1000\n",
      "166/166 [==============================] - 4s 26ms/step - loss: 0.0197 - mae: 0.0471 - accuracy: 0.7558 - val_loss: 0.0198 - val_mae: 0.0470 - val_accuracy: 0.7583\n",
      "Epoch 57/1000\n",
      "166/166 [==============================] - 4s 26ms/step - loss: 0.0199 - mae: 0.0470 - accuracy: 0.7531 - val_loss: 0.0205 - val_mae: 0.0487 - val_accuracy: 0.7465\n",
      "Epoch 58/1000\n",
      "166/166 [==============================] - 4s 26ms/step - loss: 0.0198 - mae: 0.0469 - accuracy: 0.7562 - val_loss: 0.0197 - val_mae: 0.0472 - val_accuracy: 0.7574\n",
      "Epoch 59/1000\n",
      "166/166 [==============================] - 4s 26ms/step - loss: 0.0197 - mae: 0.0468 - accuracy: 0.7556 - val_loss: 0.0201 - val_mae: 0.0473 - val_accuracy: 0.7531\n",
      "Epoch 60/1000\n",
      "166/166 [==============================] - 4s 26ms/step - loss: 0.0196 - mae: 0.0466 - accuracy: 0.7581 - val_loss: 0.0195 - val_mae: 0.0459 - val_accuracy: 0.7608\n",
      "Epoch 61/1000\n",
      "166/166 [==============================] - 4s 26ms/step - loss: 0.0195 - mae: 0.0464 - accuracy: 0.7597 - val_loss: 0.0196 - val_mae: 0.0467 - val_accuracy: 0.7589\n",
      "Epoch 62/1000\n",
      "166/166 [==============================] - 4s 26ms/step - loss: 0.0195 - mae: 0.0465 - accuracy: 0.7581 - val_loss: 0.0195 - val_mae: 0.0461 - val_accuracy: 0.7610\n",
      "Epoch 63/1000\n",
      "166/166 [==============================] - 4s 26ms/step - loss: 0.0195 - mae: 0.0463 - accuracy: 0.7601 - val_loss: 0.0198 - val_mae: 0.0468 - val_accuracy: 0.7570\n",
      "Epoch 64/1000\n",
      "166/166 [==============================] - 4s 26ms/step - loss: 0.0194 - mae: 0.0461 - accuracy: 0.7617 - val_loss: 0.0199 - val_mae: 0.0469 - val_accuracy: 0.7546\n",
      "Epoch 65/1000\n",
      "166/166 [==============================] - 4s 26ms/step - loss: 0.0196 - mae: 0.0465 - accuracy: 0.7576 - val_loss: 0.0193 - val_mae: 0.0459 - val_accuracy: 0.7657\n",
      "Epoch 66/1000\n",
      "166/166 [==============================] - 4s 26ms/step - loss: 0.0193 - mae: 0.0459 - accuracy: 0.7615 - val_loss: 0.0194 - val_mae: 0.0460 - val_accuracy: 0.7614\n",
      "Epoch 67/1000\n",
      "166/166 [==============================] - 4s 26ms/step - loss: 0.0196 - mae: 0.0464 - accuracy: 0.7583 - val_loss: 0.0198 - val_mae: 0.0476 - val_accuracy: 0.7583\n",
      "Epoch 68/1000\n",
      "166/166 [==============================] - 4s 26ms/step - loss: 0.0196 - mae: 0.0468 - accuracy: 0.7589 - val_loss: 0.0195 - val_mae: 0.0460 - val_accuracy: 0.7627\n",
      "Epoch 69/1000\n",
      "166/166 [==============================] - 4s 26ms/step - loss: 0.0194 - mae: 0.0459 - accuracy: 0.7622 - val_loss: 0.0197 - val_mae: 0.0477 - val_accuracy: 0.7588\n",
      "Epoch 70/1000\n",
      "166/166 [==============================] - 4s 26ms/step - loss: 0.0194 - mae: 0.0463 - accuracy: 0.7605 - val_loss: 0.0193 - val_mae: 0.0462 - val_accuracy: 0.7627\n",
      "Epoch 71/1000\n",
      "166/166 [==============================] - 4s 26ms/step - loss: 0.0194 - mae: 0.0462 - accuracy: 0.7602 - val_loss: 0.0193 - val_mae: 0.0459 - val_accuracy: 0.7634\n",
      "Epoch 72/1000\n",
      "166/166 [==============================] - 4s 26ms/step - loss: 0.0192 - mae: 0.0456 - accuracy: 0.7643 - val_loss: 0.0195 - val_mae: 0.0461 - val_accuracy: 0.7603\n",
      "Epoch 73/1000\n",
      "166/166 [==============================] - 4s 27ms/step - loss: 0.0192 - mae: 0.0456 - accuracy: 0.7646 - val_loss: 0.0195 - val_mae: 0.0471 - val_accuracy: 0.7618\n",
      "Epoch 74/1000\n",
      "166/166 [==============================] - 4s 26ms/step - loss: 0.0194 - mae: 0.0460 - accuracy: 0.7618 - val_loss: 0.0195 - val_mae: 0.0475 - val_accuracy: 0.7623\n",
      "Epoch 75/1000\n",
      "166/166 [==============================] - 4s 26ms/step - loss: 0.0192 - mae: 0.0459 - accuracy: 0.7645 - val_loss: 0.0210 - val_mae: 0.0477 - val_accuracy: 0.7419\n",
      "Epoch 76/1000\n",
      "166/166 [==============================] - 4s 26ms/step - loss: 0.0195 - mae: 0.0463 - accuracy: 0.7610 - val_loss: 0.0198 - val_mae: 0.0474 - val_accuracy: 0.7558\n",
      "Epoch 77/1000\n",
      "166/166 [==============================] - 4s 26ms/step - loss: 0.0194 - mae: 0.0461 - accuracy: 0.7619 - val_loss: 0.0193 - val_mae: 0.0461 - val_accuracy: 0.7633\n",
      "Epoch 78/1000\n",
      "166/166 [==============================] - 4s 27ms/step - loss: 0.0192 - mae: 0.0457 - accuracy: 0.7635 - val_loss: 0.0192 - val_mae: 0.0455 - val_accuracy: 0.7651\n",
      "Epoch 79/1000\n",
      "166/166 [==============================] - 4s 26ms/step - loss: 0.0193 - mae: 0.0457 - accuracy: 0.7630 - val_loss: 0.0194 - val_mae: 0.0460 - val_accuracy: 0.7628\n",
      "Epoch 80/1000\n",
      "166/166 [==============================] - 4s 26ms/step - loss: 0.0191 - mae: 0.0454 - accuracy: 0.7660 - val_loss: 0.0193 - val_mae: 0.0467 - val_accuracy: 0.7657\n",
      "Epoch 81/1000\n",
      "166/166 [==============================] - 4s 26ms/step - loss: 0.0192 - mae: 0.0459 - accuracy: 0.7643 - val_loss: 0.0204 - val_mae: 0.0476 - val_accuracy: 0.7483\n",
      "Epoch 82/1000\n",
      "166/166 [==============================] - 4s 26ms/step - loss: 0.0194 - mae: 0.0461 - accuracy: 0.7617 - val_loss: 0.0192 - val_mae: 0.0457 - val_accuracy: 0.7672\n",
      "Epoch 83/1000\n",
      "166/166 [==============================] - 4s 26ms/step - loss: 0.0190 - mae: 0.0455 - accuracy: 0.7662 - val_loss: 0.0190 - val_mae: 0.0453 - val_accuracy: 0.7692\n",
      "Epoch 84/1000\n",
      "166/166 [==============================] - 4s 26ms/step - loss: 0.0191 - mae: 0.0454 - accuracy: 0.7650 - val_loss: 0.0197 - val_mae: 0.0473 - val_accuracy: 0.7580\n",
      "Epoch 85/1000\n",
      "166/166 [==============================] - 4s 26ms/step - loss: 0.0191 - mae: 0.0455 - accuracy: 0.7657 - val_loss: 0.0192 - val_mae: 0.0466 - val_accuracy: 0.7653\n",
      "Epoch 86/1000\n",
      "166/166 [==============================] - 4s 26ms/step - loss: 0.0191 - mae: 0.0455 - accuracy: 0.7648 - val_loss: 0.0191 - val_mae: 0.0457 - val_accuracy: 0.7663\n",
      "Epoch 87/1000\n",
      "166/166 [==============================] - 4s 26ms/step - loss: 0.0189 - mae: 0.0450 - accuracy: 0.7672 - val_loss: 0.0189 - val_mae: 0.0449 - val_accuracy: 0.7696\n",
      "Epoch 88/1000\n",
      "166/166 [==============================] - 4s 26ms/step - loss: 0.0190 - mae: 0.0454 - accuracy: 0.7662 - val_loss: 0.0192 - val_mae: 0.0455 - val_accuracy: 0.7652\n",
      "Epoch 89/1000\n",
      "166/166 [==============================] - 4s 26ms/step - loss: 0.0190 - mae: 0.0452 - accuracy: 0.7671 - val_loss: 0.0193 - val_mae: 0.0459 - val_accuracy: 0.7647\n",
      "Epoch 90/1000\n",
      "166/166 [==============================] - 4s 26ms/step - loss: 0.0191 - mae: 0.0454 - accuracy: 0.7656 - val_loss: 0.0191 - val_mae: 0.0450 - val_accuracy: 0.7666\n",
      "Epoch 91/1000\n",
      "166/166 [==============================] - 4s 26ms/step - loss: 0.0188 - mae: 0.0448 - accuracy: 0.7694 - val_loss: 0.0191 - val_mae: 0.0455 - val_accuracy: 0.7669\n",
      "Epoch 92/1000\n",
      "166/166 [==============================] - 4s 26ms/step - loss: 0.0190 - mae: 0.0454 - accuracy: 0.7676 - val_loss: 0.0190 - val_mae: 0.0460 - val_accuracy: 0.7678\n",
      "Epoch 93/1000\n"
     ]
    },
    {
     "name": "stdout",
     "output_type": "stream",
     "text": [
      "166/166 [==============================] - 4s 26ms/step - loss: 0.0190 - mae: 0.0454 - accuracy: 0.7660 - val_loss: 0.0192 - val_mae: 0.0449 - val_accuracy: 0.7646\n",
      "Epoch 94/1000\n",
      "166/166 [==============================] - 4s 26ms/step - loss: 0.0190 - mae: 0.0451 - accuracy: 0.7661 - val_loss: 0.0191 - val_mae: 0.0459 - val_accuracy: 0.7654\n",
      "Epoch 95/1000\n",
      "166/166 [==============================] - 4s 26ms/step - loss: 0.0187 - mae: 0.0448 - accuracy: 0.7696 - val_loss: 0.0191 - val_mae: 0.0453 - val_accuracy: 0.7683\n",
      "Epoch 96/1000\n",
      "166/166 [==============================] - 4s 26ms/step - loss: 0.0189 - mae: 0.0450 - accuracy: 0.7685 - val_loss: 0.0190 - val_mae: 0.0456 - val_accuracy: 0.7675\n",
      "Epoch 97/1000\n",
      "166/166 [==============================] - 4s 26ms/step - loss: 0.0187 - mae: 0.0448 - accuracy: 0.7723 - val_loss: 0.0193 - val_mae: 0.0460 - val_accuracy: 0.7656\n",
      "Epoch 98/1000\n",
      "166/166 [==============================] - 4s 26ms/step - loss: 0.0190 - mae: 0.0453 - accuracy: 0.7676 - val_loss: 0.0188 - val_mae: 0.0450 - val_accuracy: 0.7714\n",
      "Epoch 99/1000\n",
      "166/166 [==============================] - 4s 26ms/step - loss: 0.0188 - mae: 0.0449 - accuracy: 0.7704 - val_loss: 0.0191 - val_mae: 0.0458 - val_accuracy: 0.7647\n",
      "Epoch 100/1000\n",
      "166/166 [==============================] - 4s 26ms/step - loss: 0.0189 - mae: 0.0449 - accuracy: 0.7685 - val_loss: 0.0191 - val_mae: 0.0453 - val_accuracy: 0.7681\n",
      "Epoch 101/1000\n",
      "166/166 [==============================] - 4s 26ms/step - loss: 0.0188 - mae: 0.0450 - accuracy: 0.7708 - val_loss: 0.0198 - val_mae: 0.0455 - val_accuracy: 0.7576\n",
      "Epoch 102/1000\n",
      "166/166 [==============================] - 4s 26ms/step - loss: 0.0190 - mae: 0.0452 - accuracy: 0.7672 - val_loss: 0.0188 - val_mae: 0.0445 - val_accuracy: 0.7697\n",
      "Epoch 103/1000\n",
      "166/166 [==============================] - 4s 26ms/step - loss: 0.0188 - mae: 0.0447 - accuracy: 0.7703 - val_loss: 0.0192 - val_mae: 0.0443 - val_accuracy: 0.7664\n",
      "Epoch 104/1000\n",
      "166/166 [==============================] - 4s 26ms/step - loss: 0.0188 - mae: 0.0449 - accuracy: 0.7703 - val_loss: 0.0192 - val_mae: 0.0459 - val_accuracy: 0.7664\n",
      "Epoch 105/1000\n",
      "166/166 [==============================] - 4s 26ms/step - loss: 0.0189 - mae: 0.0453 - accuracy: 0.7682 - val_loss: 0.0188 - val_mae: 0.0444 - val_accuracy: 0.7712\n",
      "Epoch 106/1000\n",
      "166/166 [==============================] - 4s 26ms/step - loss: 0.0189 - mae: 0.0450 - accuracy: 0.7681 - val_loss: 0.0202 - val_mae: 0.0470 - val_accuracy: 0.7515\n",
      "Epoch 107/1000\n",
      "166/166 [==============================] - 4s 26ms/step - loss: 0.0189 - mae: 0.0450 - accuracy: 0.7681 - val_loss: 0.0190 - val_mae: 0.0446 - val_accuracy: 0.7671\n",
      "Epoch 108/1000\n",
      "166/166 [==============================] - 4s 26ms/step - loss: 0.0189 - mae: 0.0448 - accuracy: 0.7696 - val_loss: 0.0188 - val_mae: 0.0445 - val_accuracy: 0.7726\n",
      "Epoch 109/1000\n",
      "166/166 [==============================] - 4s 26ms/step - loss: 0.0187 - mae: 0.0447 - accuracy: 0.7722 - val_loss: 0.0199 - val_mae: 0.0469 - val_accuracy: 0.7561\n",
      "Epoch 110/1000\n",
      "166/166 [==============================] - 4s 26ms/step - loss: 0.0189 - mae: 0.0449 - accuracy: 0.7693 - val_loss: 0.0191 - val_mae: 0.0463 - val_accuracy: 0.7677\n",
      "Epoch 111/1000\n",
      "166/166 [==============================] - 4s 27ms/step - loss: 0.0187 - mae: 0.0448 - accuracy: 0.7704 - val_loss: 0.0188 - val_mae: 0.0450 - val_accuracy: 0.7700\n",
      "Epoch 112/1000\n",
      "166/166 [==============================] - 4s 26ms/step - loss: 0.0188 - mae: 0.0448 - accuracy: 0.7707 - val_loss: 0.0188 - val_mae: 0.0446 - val_accuracy: 0.7720\n",
      "Epoch 113/1000\n",
      "166/166 [==============================] - 4s 26ms/step - loss: 0.0186 - mae: 0.0443 - accuracy: 0.7725 - val_loss: 0.0190 - val_mae: 0.0459 - val_accuracy: 0.7680\n",
      "Epoch 114/1000\n",
      "166/166 [==============================] - 4s 26ms/step - loss: 0.0186 - mae: 0.0443 - accuracy: 0.7730 - val_loss: 0.0192 - val_mae: 0.0451 - val_accuracy: 0.7656\n",
      "Epoch 115/1000\n",
      "166/166 [==============================] - 4s 26ms/step - loss: 0.0188 - mae: 0.0448 - accuracy: 0.7712 - val_loss: 0.0191 - val_mae: 0.0455 - val_accuracy: 0.7659\n",
      "Epoch 116/1000\n",
      "166/166 [==============================] - 4s 26ms/step - loss: 0.0187 - mae: 0.0446 - accuracy: 0.7707 - val_loss: 0.0190 - val_mae: 0.0450 - val_accuracy: 0.7665\n",
      "Epoch 117/1000\n",
      "166/166 [==============================] - 4s 26ms/step - loss: 0.0186 - mae: 0.0443 - accuracy: 0.7726 - val_loss: 0.0194 - val_mae: 0.0456 - val_accuracy: 0.7614\n",
      "Epoch 118/1000\n",
      "166/166 [==============================] - 4s 26ms/step - loss: 0.0188 - mae: 0.0445 - accuracy: 0.7706 - val_loss: 0.0190 - val_mae: 0.0447 - val_accuracy: 0.7702\n",
      "Epoch 119/1000\n",
      "166/166 [==============================] - 4s 26ms/step - loss: 0.0187 - mae: 0.0447 - accuracy: 0.7711 - val_loss: 0.0189 - val_mae: 0.0441 - val_accuracy: 0.7701\n",
      "Epoch 120/1000\n",
      "166/166 [==============================] - 4s 26ms/step - loss: 0.0187 - mae: 0.0444 - accuracy: 0.7709 - val_loss: 0.0196 - val_mae: 0.0451 - val_accuracy: 0.7612\n",
      "Epoch 121/1000\n",
      "166/166 [==============================] - 4s 26ms/step - loss: 0.0188 - mae: 0.0446 - accuracy: 0.7709 - val_loss: 0.0187 - val_mae: 0.0442 - val_accuracy: 0.7735\n",
      "Epoch 122/1000\n",
      "166/166 [==============================] - 4s 26ms/step - loss: 0.0186 - mae: 0.0443 - accuracy: 0.7725 - val_loss: 0.0190 - val_mae: 0.0455 - val_accuracy: 0.7666\n",
      "Epoch 123/1000\n",
      "166/166 [==============================] - 4s 26ms/step - loss: 0.0187 - mae: 0.0447 - accuracy: 0.7710 - val_loss: 0.0187 - val_mae: 0.0446 - val_accuracy: 0.7728\n",
      "Epoch 124/1000\n",
      "166/166 [==============================] - 4s 26ms/step - loss: 0.0186 - mae: 0.0442 - accuracy: 0.7725 - val_loss: 0.0188 - val_mae: 0.0447 - val_accuracy: 0.7717\n",
      "Epoch 125/1000\n",
      "166/166 [==============================] - 4s 26ms/step - loss: 0.0185 - mae: 0.0442 - accuracy: 0.7732 - val_loss: 0.0195 - val_mae: 0.0451 - val_accuracy: 0.7601\n",
      "Epoch 126/1000\n",
      "166/166 [==============================] - 4s 26ms/step - loss: 0.0186 - mae: 0.0444 - accuracy: 0.7723 - val_loss: 0.0189 - val_mae: 0.0441 - val_accuracy: 0.7704\n",
      "Epoch 127/1000\n",
      "166/166 [==============================] - 4s 26ms/step - loss: 0.0184 - mae: 0.0440 - accuracy: 0.7752 - val_loss: 0.0188 - val_mae: 0.0449 - val_accuracy: 0.7732\n",
      "Epoch 128/1000\n",
      "166/166 [==============================] - 4s 26ms/step - loss: 0.0187 - mae: 0.0445 - accuracy: 0.7722 - val_loss: 0.0187 - val_mae: 0.0449 - val_accuracy: 0.7729\n",
      "Epoch 129/1000\n",
      "166/166 [==============================] - 4s 26ms/step - loss: 0.0184 - mae: 0.0439 - accuracy: 0.7746 - val_loss: 0.0186 - val_mae: 0.0440 - val_accuracy: 0.7733\n",
      "Epoch 130/1000\n",
      "166/166 [==============================] - 4s 26ms/step - loss: 0.0185 - mae: 0.0441 - accuracy: 0.7738 - val_loss: 0.0186 - val_mae: 0.0440 - val_accuracy: 0.7730\n",
      "Epoch 131/1000\n",
      "166/166 [==============================] - 4s 26ms/step - loss: 0.0185 - mae: 0.0440 - accuracy: 0.7743 - val_loss: 0.0190 - val_mae: 0.0450 - val_accuracy: 0.7679\n",
      "Epoch 132/1000\n",
      "166/166 [==============================] - 4s 26ms/step - loss: 0.0186 - mae: 0.0441 - accuracy: 0.7735 - val_loss: 0.0187 - val_mae: 0.0448 - val_accuracy: 0.7726\n",
      "Epoch 133/1000\n",
      "166/166 [==============================] - 4s 26ms/step - loss: 0.0185 - mae: 0.0441 - accuracy: 0.7735 - val_loss: 0.0186 - val_mae: 0.0438 - val_accuracy: 0.7758\n",
      "Epoch 134/1000\n",
      "166/166 [==============================] - 4s 26ms/step - loss: 0.0184 - mae: 0.0439 - accuracy: 0.7755 - val_loss: 0.0185 - val_mae: 0.0439 - val_accuracy: 0.7763\n",
      "Epoch 135/1000\n",
      "166/166 [==============================] - 4s 26ms/step - loss: 0.0185 - mae: 0.0440 - accuracy: 0.7745 - val_loss: 0.0186 - val_mae: 0.0443 - val_accuracy: 0.7739\n",
      "Epoch 136/1000\n",
      "166/166 [==============================] - 4s 26ms/step - loss: 0.0185 - mae: 0.0442 - accuracy: 0.7737 - val_loss: 0.0187 - val_mae: 0.0450 - val_accuracy: 0.7735\n",
      "Epoch 137/1000\n",
      "166/166 [==============================] - 4s 26ms/step - loss: 0.0184 - mae: 0.0442 - accuracy: 0.7749 - val_loss: 0.0185 - val_mae: 0.0436 - val_accuracy: 0.7767\n",
      "Epoch 138/1000\n",
      "166/166 [==============================] - 4s 26ms/step - loss: 0.0184 - mae: 0.0438 - accuracy: 0.7772 - val_loss: 0.0191 - val_mae: 0.0457 - val_accuracy: 0.7653\n"
     ]
    },
    {
     "name": "stdout",
     "output_type": "stream",
     "text": [
      "Epoch 139/1000\n",
      "166/166 [==============================] - 4s 26ms/step - loss: 0.0187 - mae: 0.0446 - accuracy: 0.7723 - val_loss: 0.0188 - val_mae: 0.0448 - val_accuracy: 0.7699\n",
      "Epoch 140/1000\n",
      "166/166 [==============================] - 4s 26ms/step - loss: 0.0185 - mae: 0.0440 - accuracy: 0.7731 - val_loss: 0.0188 - val_mae: 0.0454 - val_accuracy: 0.7710\n",
      "Epoch 141/1000\n",
      "166/166 [==============================] - 4s 26ms/step - loss: 0.0183 - mae: 0.0439 - accuracy: 0.7769 - val_loss: 0.0190 - val_mae: 0.0459 - val_accuracy: 0.7664\n",
      "Epoch 142/1000\n",
      "166/166 [==============================] - 4s 26ms/step - loss: 0.0184 - mae: 0.0442 - accuracy: 0.7753 - val_loss: 0.0188 - val_mae: 0.0440 - val_accuracy: 0.7703\n",
      "Epoch 143/1000\n",
      "166/166 [==============================] - 4s 26ms/step - loss: 0.0184 - mae: 0.0439 - accuracy: 0.7747 - val_loss: 0.0189 - val_mae: 0.0440 - val_accuracy: 0.7702\n",
      "Epoch 144/1000\n",
      "166/166 [==============================] - 4s 26ms/step - loss: 0.0186 - mae: 0.0442 - accuracy: 0.7727 - val_loss: 0.0188 - val_mae: 0.0446 - val_accuracy: 0.7729\n",
      "Epoch 145/1000\n",
      "166/166 [==============================] - 4s 26ms/step - loss: 0.0185 - mae: 0.0442 - accuracy: 0.7749 - val_loss: 0.0190 - val_mae: 0.0455 - val_accuracy: 0.7679\n",
      "Epoch 146/1000\n",
      "166/166 [==============================] - 4s 26ms/step - loss: 0.0183 - mae: 0.0439 - accuracy: 0.7770 - val_loss: 0.0188 - val_mae: 0.0444 - val_accuracy: 0.7721\n",
      "Epoch 147/1000\n",
      "166/166 [==============================] - 4s 26ms/step - loss: 0.0184 - mae: 0.0440 - accuracy: 0.7755 - val_loss: 0.0185 - val_mae: 0.0440 - val_accuracy: 0.7761\n",
      "Epoch 148/1000\n",
      "166/166 [==============================] - 4s 26ms/step - loss: 0.0184 - mae: 0.0438 - accuracy: 0.7755 - val_loss: 0.0191 - val_mae: 0.0448 - val_accuracy: 0.7653\n",
      "Epoch 149/1000\n",
      "166/166 [==============================] - 4s 26ms/step - loss: 0.0185 - mae: 0.0444 - accuracy: 0.7730 - val_loss: 0.0187 - val_mae: 0.0438 - val_accuracy: 0.7716\n",
      "Epoch 150/1000\n",
      "166/166 [==============================] - 4s 26ms/step - loss: 0.0184 - mae: 0.0438 - accuracy: 0.7763 - val_loss: 0.0189 - val_mae: 0.0446 - val_accuracy: 0.7682\n",
      "Epoch 151/1000\n",
      "166/166 [==============================] - 4s 26ms/step - loss: 0.0187 - mae: 0.0443 - accuracy: 0.7711 - val_loss: 0.0185 - val_mae: 0.0444 - val_accuracy: 0.7772\n",
      "Epoch 152/1000\n",
      "166/166 [==============================] - 4s 26ms/step - loss: 0.0181 - mae: 0.0434 - accuracy: 0.7792 - val_loss: 0.0184 - val_mae: 0.0438 - val_accuracy: 0.7768\n",
      "Epoch 153/1000\n",
      "166/166 [==============================] - 4s 26ms/step - loss: 0.0183 - mae: 0.0439 - accuracy: 0.7767 - val_loss: 0.0191 - val_mae: 0.0454 - val_accuracy: 0.7676\n",
      "Epoch 154/1000\n",
      "166/166 [==============================] - 4s 26ms/step - loss: 0.0183 - mae: 0.0437 - accuracy: 0.7764 - val_loss: 0.0185 - val_mae: 0.0442 - val_accuracy: 0.7771\n",
      "Epoch 155/1000\n",
      "166/166 [==============================] - 4s 26ms/step - loss: 0.0182 - mae: 0.0436 - accuracy: 0.7790 - val_loss: 0.0189 - val_mae: 0.0453 - val_accuracy: 0.7682\n",
      "Epoch 156/1000\n",
      "166/166 [==============================] - 4s 26ms/step - loss: 0.0184 - mae: 0.0442 - accuracy: 0.7753 - val_loss: 0.0192 - val_mae: 0.0438 - val_accuracy: 0.7659\n",
      "Epoch 157/1000\n",
      "166/166 [==============================] - 4s 26ms/step - loss: 0.0184 - mae: 0.0440 - accuracy: 0.7753 - val_loss: 0.0185 - val_mae: 0.0443 - val_accuracy: 0.7739\n",
      "Epoch 158/1000\n",
      "166/166 [==============================] - 4s 26ms/step - loss: 0.0183 - mae: 0.0437 - accuracy: 0.7773 - val_loss: 0.0184 - val_mae: 0.0446 - val_accuracy: 0.7762\n",
      "Epoch 159/1000\n",
      "166/166 [==============================] - 4s 26ms/step - loss: 0.0182 - mae: 0.0436 - accuracy: 0.7783 - val_loss: 0.0183 - val_mae: 0.0440 - val_accuracy: 0.7784\n",
      "Epoch 160/1000\n",
      "166/166 [==============================] - 4s 26ms/step - loss: 0.0181 - mae: 0.0433 - accuracy: 0.7797 - val_loss: 0.0195 - val_mae: 0.0449 - val_accuracy: 0.7616\n",
      "Epoch 161/1000\n",
      "166/166 [==============================] - 4s 26ms/step - loss: 0.0185 - mae: 0.0441 - accuracy: 0.7755 - val_loss: 0.0185 - val_mae: 0.0438 - val_accuracy: 0.7753\n",
      "Epoch 162/1000\n",
      "166/166 [==============================] - 4s 26ms/step - loss: 0.0183 - mae: 0.0437 - accuracy: 0.7770 - val_loss: 0.0188 - val_mae: 0.0440 - val_accuracy: 0.7708\n",
      "Epoch 163/1000\n",
      "166/166 [==============================] - 4s 26ms/step - loss: 0.0183 - mae: 0.0436 - accuracy: 0.7770 - val_loss: 0.0185 - val_mae: 0.0439 - val_accuracy: 0.7751\n",
      "Epoch 164/1000\n",
      "166/166 [==============================] - 4s 26ms/step - loss: 0.0183 - mae: 0.0437 - accuracy: 0.7762 - val_loss: 0.0186 - val_mae: 0.0438 - val_accuracy: 0.7747\n",
      "Epoch 165/1000\n",
      "166/166 [==============================] - 4s 26ms/step - loss: 0.0186 - mae: 0.0443 - accuracy: 0.7732 - val_loss: 0.0185 - val_mae: 0.0442 - val_accuracy: 0.7776\n",
      "Epoch 166/1000\n",
      "166/166 [==============================] - 4s 26ms/step - loss: 0.0183 - mae: 0.0436 - accuracy: 0.7773 - val_loss: 0.0186 - val_mae: 0.0441 - val_accuracy: 0.7736\n",
      "Epoch 167/1000\n",
      "166/166 [==============================] - 4s 26ms/step - loss: 0.0183 - mae: 0.0439 - accuracy: 0.7763 - val_loss: 0.0185 - val_mae: 0.0454 - val_accuracy: 0.7743\n",
      "Epoch 168/1000\n",
      "166/166 [==============================] - 4s 26ms/step - loss: 0.0181 - mae: 0.0437 - accuracy: 0.7791 - val_loss: 0.0187 - val_mae: 0.0442 - val_accuracy: 0.7721\n",
      "Epoch 169/1000\n",
      "166/166 [==============================] - 4s 26ms/step - loss: 0.0183 - mae: 0.0436 - accuracy: 0.7770 - val_loss: 0.0183 - val_mae: 0.0437 - val_accuracy: 0.7776\n",
      "Epoch 170/1000\n",
      "166/166 [==============================] - 4s 26ms/step - loss: 0.0181 - mae: 0.0435 - accuracy: 0.7795 - val_loss: 0.0185 - val_mae: 0.0438 - val_accuracy: 0.7758\n",
      "Epoch 171/1000\n",
      "166/166 [==============================] - 4s 26ms/step - loss: 0.0184 - mae: 0.0439 - accuracy: 0.7755 - val_loss: 0.0188 - val_mae: 0.0439 - val_accuracy: 0.7713\n",
      "Epoch 172/1000\n",
      "166/166 [==============================] - 4s 26ms/step - loss: 0.0182 - mae: 0.0434 - accuracy: 0.7791 - val_loss: 0.0190 - val_mae: 0.0447 - val_accuracy: 0.7672\n",
      "Epoch 173/1000\n",
      "166/166 [==============================] - 4s 26ms/step - loss: 0.0181 - mae: 0.0434 - accuracy: 0.7788 - val_loss: 0.0184 - val_mae: 0.0439 - val_accuracy: 0.7753\n",
      "Epoch 174/1000\n",
      "166/166 [==============================] - 4s 26ms/step - loss: 0.0182 - mae: 0.0435 - accuracy: 0.7785 - val_loss: 0.0184 - val_mae: 0.0443 - val_accuracy: 0.7774\n",
      "Epoch 175/1000\n",
      "166/166 [==============================] - 4s 26ms/step - loss: 0.0182 - mae: 0.0436 - accuracy: 0.7776 - val_loss: 0.0187 - val_mae: 0.0443 - val_accuracy: 0.7715\n",
      "Epoch 176/1000\n",
      "166/166 [==============================] - 4s 26ms/step - loss: 0.0182 - mae: 0.0434 - accuracy: 0.7789 - val_loss: 0.0184 - val_mae: 0.0434 - val_accuracy: 0.7762\n",
      "Epoch 177/1000\n",
      "166/166 [==============================] - 4s 27ms/step - loss: 0.0182 - mae: 0.0434 - accuracy: 0.7789 - val_loss: 0.0187 - val_mae: 0.0440 - val_accuracy: 0.7737\n",
      "Epoch 178/1000\n",
      "166/166 [==============================] - 4s 26ms/step - loss: 0.0184 - mae: 0.0440 - accuracy: 0.7753 - val_loss: 0.0184 - val_mae: 0.0441 - val_accuracy: 0.7758\n",
      "Epoch 179/1000\n",
      "166/166 [==============================] - 4s 26ms/step - loss: 0.0179 - mae: 0.0430 - accuracy: 0.7821 - val_loss: 0.0185 - val_mae: 0.0434 - val_accuracy: 0.7748\n",
      "Epoch 180/1000\n",
      "166/166 [==============================] - 4s 27ms/step - loss: 0.0181 - mae: 0.0432 - accuracy: 0.7794 - val_loss: 0.0184 - val_mae: 0.0445 - val_accuracy: 0.7780\n",
      "Epoch 181/1000\n",
      "166/166 [==============================] - 4s 27ms/step - loss: 0.0181 - mae: 0.0434 - accuracy: 0.7803 - val_loss: 0.0184 - val_mae: 0.0443 - val_accuracy: 0.7761\n",
      "Epoch 182/1000\n",
      "166/166 [==============================] - 4s 27ms/step - loss: 0.0181 - mae: 0.0435 - accuracy: 0.7803 - val_loss: 0.0182 - val_mae: 0.0441 - val_accuracy: 0.7785\n",
      "Epoch 183/1000\n",
      "166/166 [==============================] - 4s 27ms/step - loss: 0.0180 - mae: 0.0431 - accuracy: 0.7809 - val_loss: 0.0184 - val_mae: 0.0440 - val_accuracy: 0.7768\n",
      "Epoch 184/1000\n",
      "166/166 [==============================] - 4s 27ms/step - loss: 0.0182 - mae: 0.0436 - accuracy: 0.7792 - val_loss: 0.0185 - val_mae: 0.0439 - val_accuracy: 0.7767\n"
     ]
    },
    {
     "name": "stdout",
     "output_type": "stream",
     "text": [
      "Epoch 185/1000\n",
      "166/166 [==============================] - 4s 26ms/step - loss: 0.0183 - mae: 0.0436 - accuracy: 0.7783 - val_loss: 0.0188 - val_mae: 0.0445 - val_accuracy: 0.7692\n",
      "Epoch 186/1000\n",
      "166/166 [==============================] - 4s 26ms/step - loss: 0.0181 - mae: 0.0434 - accuracy: 0.7799 - val_loss: 0.0183 - val_mae: 0.0441 - val_accuracy: 0.7774\n",
      "Epoch 187/1000\n",
      "166/166 [==============================] - 4s 26ms/step - loss: 0.0180 - mae: 0.0430 - accuracy: 0.7812 - val_loss: 0.0186 - val_mae: 0.0447 - val_accuracy: 0.7745\n",
      "Epoch 188/1000\n",
      "166/166 [==============================] - 4s 26ms/step - loss: 0.0181 - mae: 0.0434 - accuracy: 0.7804 - val_loss: 0.0182 - val_mae: 0.0435 - val_accuracy: 0.7784\n",
      "Epoch 189/1000\n",
      "166/166 [==============================] - 4s 27ms/step - loss: 0.0180 - mae: 0.0431 - accuracy: 0.7812 - val_loss: 0.0187 - val_mae: 0.0446 - val_accuracy: 0.7725\n",
      "Epoch 190/1000\n",
      "166/166 [==============================] - 4s 26ms/step - loss: 0.0180 - mae: 0.0432 - accuracy: 0.7826 - val_loss: 0.0191 - val_mae: 0.0448 - val_accuracy: 0.7653\n",
      "Epoch 191/1000\n",
      "166/166 [==============================] - 4s 26ms/step - loss: 0.0182 - mae: 0.0434 - accuracy: 0.7784 - val_loss: 0.0183 - val_mae: 0.0435 - val_accuracy: 0.7781\n",
      "Epoch 192/1000\n",
      "166/166 [==============================] - 4s 26ms/step - loss: 0.0180 - mae: 0.0430 - accuracy: 0.7798 - val_loss: 0.0182 - val_mae: 0.0432 - val_accuracy: 0.7792\n",
      "Epoch 193/1000\n",
      "166/166 [==============================] - 4s 26ms/step - loss: 0.0180 - mae: 0.0431 - accuracy: 0.7805 - val_loss: 0.0194 - val_mae: 0.0448 - val_accuracy: 0.7626\n",
      "Epoch 194/1000\n",
      "166/166 [==============================] - 4s 26ms/step - loss: 0.0180 - mae: 0.0434 - accuracy: 0.7813 - val_loss: 0.0189 - val_mae: 0.0452 - val_accuracy: 0.7680\n",
      "Epoch 195/1000\n",
      "166/166 [==============================] - 4s 26ms/step - loss: 0.0180 - mae: 0.0434 - accuracy: 0.7807 - val_loss: 0.0187 - val_mae: 0.0442 - val_accuracy: 0.7720\n",
      "Epoch 196/1000\n",
      "166/166 [==============================] - 4s 26ms/step - loss: 0.0184 - mae: 0.0439 - accuracy: 0.7748 - val_loss: 0.0185 - val_mae: 0.0439 - val_accuracy: 0.7734\n",
      "Epoch 197/1000\n",
      "166/166 [==============================] - 4s 26ms/step - loss: 0.0180 - mae: 0.0432 - accuracy: 0.7808 - val_loss: 0.0183 - val_mae: 0.0434 - val_accuracy: 0.7781\n",
      "Epoch 198/1000\n",
      "166/166 [==============================] - 4s 26ms/step - loss: 0.0180 - mae: 0.0433 - accuracy: 0.7810 - val_loss: 0.0183 - val_mae: 0.0433 - val_accuracy: 0.7785\n",
      "Epoch 199/1000\n",
      "166/166 [==============================] - 4s 26ms/step - loss: 0.0182 - mae: 0.0434 - accuracy: 0.7781 - val_loss: 0.0181 - val_mae: 0.0430 - val_accuracy: 0.7798\n",
      "Epoch 200/1000\n",
      "166/166 [==============================] - 4s 27ms/step - loss: 0.0179 - mae: 0.0428 - accuracy: 0.7826 - val_loss: 0.0182 - val_mae: 0.0434 - val_accuracy: 0.7788\n",
      "Epoch 201/1000\n",
      "166/166 [==============================] - 4s 27ms/step - loss: 0.0181 - mae: 0.0431 - accuracy: 0.7800 - val_loss: 0.0183 - val_mae: 0.0431 - val_accuracy: 0.7774\n",
      "Epoch 202/1000\n",
      "166/166 [==============================] - 4s 27ms/step - loss: 0.0180 - mae: 0.0430 - accuracy: 0.7824 - val_loss: 0.0184 - val_mae: 0.0445 - val_accuracy: 0.7761\n",
      "Epoch 203/1000\n",
      "166/166 [==============================] - 4s 27ms/step - loss: 0.0183 - mae: 0.0437 - accuracy: 0.7769 - val_loss: 0.0187 - val_mae: 0.0440 - val_accuracy: 0.7730\n",
      "Epoch 204/1000\n",
      "166/166 [==============================] - 4s 27ms/step - loss: 0.0181 - mae: 0.0432 - accuracy: 0.7799 - val_loss: 0.0184 - val_mae: 0.0434 - val_accuracy: 0.7767\n",
      "Epoch 205/1000\n",
      "166/166 [==============================] - 4s 27ms/step - loss: 0.0180 - mae: 0.0429 - accuracy: 0.7818 - val_loss: 0.0182 - val_mae: 0.0432 - val_accuracy: 0.7794\n",
      "Epoch 206/1000\n",
      "166/166 [==============================] - 4s 27ms/step - loss: 0.0181 - mae: 0.0434 - accuracy: 0.7798 - val_loss: 0.0184 - val_mae: 0.0444 - val_accuracy: 0.7749\n",
      "Epoch 207/1000\n",
      "166/166 [==============================] - 4s 27ms/step - loss: 0.0178 - mae: 0.0427 - accuracy: 0.7844 - val_loss: 0.0183 - val_mae: 0.0429 - val_accuracy: 0.7784\n",
      "Epoch 208/1000\n",
      "166/166 [==============================] - 4s 27ms/step - loss: 0.0180 - mae: 0.0433 - accuracy: 0.7815 - val_loss: 0.0181 - val_mae: 0.0428 - val_accuracy: 0.7801\n",
      "Epoch 209/1000\n",
      "166/166 [==============================] - 4s 27ms/step - loss: 0.0178 - mae: 0.0427 - accuracy: 0.7828 - val_loss: 0.0190 - val_mae: 0.0440 - val_accuracy: 0.7682\n",
      "Epoch 210/1000\n",
      "166/166 [==============================] - 4s 27ms/step - loss: 0.0182 - mae: 0.0435 - accuracy: 0.7776 - val_loss: 0.0183 - val_mae: 0.0434 - val_accuracy: 0.7773\n",
      "Epoch 211/1000\n",
      "166/166 [==============================] - 4s 26ms/step - loss: 0.0180 - mae: 0.0430 - accuracy: 0.7817 - val_loss: 0.0184 - val_mae: 0.0429 - val_accuracy: 0.7758\n",
      "Epoch 212/1000\n",
      "166/166 [==============================] - 4s 26ms/step - loss: 0.0179 - mae: 0.0428 - accuracy: 0.7817 - val_loss: 0.0183 - val_mae: 0.0440 - val_accuracy: 0.7781\n",
      "Epoch 213/1000\n",
      "166/166 [==============================] - 4s 26ms/step - loss: 0.0179 - mae: 0.0428 - accuracy: 0.7832 - val_loss: 0.0181 - val_mae: 0.0432 - val_accuracy: 0.7800\n",
      "Epoch 214/1000\n",
      "166/166 [==============================] - 4s 27ms/step - loss: 0.0179 - mae: 0.0429 - accuracy: 0.7826 - val_loss: 0.0182 - val_mae: 0.0432 - val_accuracy: 0.7795\n",
      "Epoch 215/1000\n",
      "166/166 [==============================] - 4s 26ms/step - loss: 0.0179 - mae: 0.0429 - accuracy: 0.7822 - val_loss: 0.0182 - val_mae: 0.0432 - val_accuracy: 0.7803\n",
      "Epoch 216/1000\n",
      "166/166 [==============================] - 4s 27ms/step - loss: 0.0179 - mae: 0.0432 - accuracy: 0.7825 - val_loss: 0.0187 - val_mae: 0.0444 - val_accuracy: 0.7737\n",
      "Epoch 217/1000\n",
      "166/166 [==============================] - 4s 27ms/step - loss: 0.0181 - mae: 0.0433 - accuracy: 0.7788 - val_loss: 0.0181 - val_mae: 0.0436 - val_accuracy: 0.7805\n",
      "Epoch 218/1000\n",
      "166/166 [==============================] - 4s 26ms/step - loss: 0.0178 - mae: 0.0427 - accuracy: 0.7837 - val_loss: 0.0183 - val_mae: 0.0434 - val_accuracy: 0.7799\n",
      "Epoch 219/1000\n",
      "166/166 [==============================] - 4s 27ms/step - loss: 0.0178 - mae: 0.0429 - accuracy: 0.7845 - val_loss: 0.0185 - val_mae: 0.0436 - val_accuracy: 0.7737\n",
      "Epoch 220/1000\n",
      "166/166 [==============================] - 4s 27ms/step - loss: 0.0178 - mae: 0.0427 - accuracy: 0.7835 - val_loss: 0.0185 - val_mae: 0.0457 - val_accuracy: 0.7746\n",
      "Epoch 221/1000\n",
      "166/166 [==============================] - 4s 27ms/step - loss: 0.0180 - mae: 0.0432 - accuracy: 0.7797 - val_loss: 0.0182 - val_mae: 0.0434 - val_accuracy: 0.7786\n",
      "Epoch 222/1000\n",
      "166/166 [==============================] - 4s 27ms/step - loss: 0.0180 - mae: 0.0431 - accuracy: 0.7823 - val_loss: 0.0180 - val_mae: 0.0430 - val_accuracy: 0.7815\n",
      "Epoch 223/1000\n",
      "166/166 [==============================] - 4s 27ms/step - loss: 0.0178 - mae: 0.0427 - accuracy: 0.7838 - val_loss: 0.0184 - val_mae: 0.0427 - val_accuracy: 0.7771\n",
      "Epoch 224/1000\n",
      "166/166 [==============================] - 4s 27ms/step - loss: 0.0180 - mae: 0.0431 - accuracy: 0.7811 - val_loss: 0.0183 - val_mae: 0.0437 - val_accuracy: 0.7787\n",
      "Epoch 225/1000\n",
      "166/166 [==============================] - 4s 27ms/step - loss: 0.0181 - mae: 0.0432 - accuracy: 0.7803 - val_loss: 0.0180 - val_mae: 0.0434 - val_accuracy: 0.7810\n",
      "Epoch 226/1000\n",
      "166/166 [==============================] - 4s 27ms/step - loss: 0.0178 - mae: 0.0427 - accuracy: 0.7835 - val_loss: 0.0180 - val_mae: 0.0430 - val_accuracy: 0.7817\n",
      "Epoch 227/1000\n",
      "166/166 [==============================] - 4s 26ms/step - loss: 0.0177 - mae: 0.0426 - accuracy: 0.7846 - val_loss: 0.0183 - val_mae: 0.0437 - val_accuracy: 0.7777\n",
      "Epoch 228/1000\n",
      "166/166 [==============================] - 4s 26ms/step - loss: 0.0179 - mae: 0.0429 - accuracy: 0.7826 - val_loss: 0.0181 - val_mae: 0.0428 - val_accuracy: 0.7794\n",
      "Epoch 229/1000\n",
      "166/166 [==============================] - 4s 27ms/step - loss: 0.0179 - mae: 0.0429 - accuracy: 0.7820 - val_loss: 0.0186 - val_mae: 0.0438 - val_accuracy: 0.7706\n",
      "Epoch 230/1000\n",
      "166/166 [==============================] - 4s 27ms/step - loss: 0.0179 - mae: 0.0429 - accuracy: 0.7832 - val_loss: 0.0180 - val_mae: 0.0429 - val_accuracy: 0.7812\n"
     ]
    },
    {
     "name": "stdout",
     "output_type": "stream",
     "text": [
      "Epoch 231/1000\n",
      "166/166 [==============================] - 5s 27ms/step - loss: 0.0179 - mae: 0.0429 - accuracy: 0.7830 - val_loss: 0.0180 - val_mae: 0.0429 - val_accuracy: 0.7803\n",
      "Epoch 232/1000\n",
      "166/166 [==============================] - 5s 27ms/step - loss: 0.0176 - mae: 0.0423 - accuracy: 0.7862 - val_loss: 0.0184 - val_mae: 0.0438 - val_accuracy: 0.7739\n",
      "Epoch 233/1000\n",
      "166/166 [==============================] - 4s 27ms/step - loss: 0.0179 - mae: 0.0430 - accuracy: 0.7814 - val_loss: 0.0188 - val_mae: 0.0445 - val_accuracy: 0.7697\n",
      "Epoch 234/1000\n",
      "166/166 [==============================] - 4s 26ms/step - loss: 0.0179 - mae: 0.0430 - accuracy: 0.7822 - val_loss: 0.0180 - val_mae: 0.0434 - val_accuracy: 0.7814\n",
      "Epoch 235/1000\n",
      "166/166 [==============================] - 4s 26ms/step - loss: 0.0177 - mae: 0.0425 - accuracy: 0.7850 - val_loss: 0.0182 - val_mae: 0.0435 - val_accuracy: 0.7786\n",
      "Epoch 236/1000\n",
      "166/166 [==============================] - 4s 26ms/step - loss: 0.0179 - mae: 0.0429 - accuracy: 0.7823 - val_loss: 0.0181 - val_mae: 0.0433 - val_accuracy: 0.7801\n",
      "Epoch 237/1000\n",
      "166/166 [==============================] - 4s 26ms/step - loss: 0.0177 - mae: 0.0425 - accuracy: 0.7851 - val_loss: 0.0184 - val_mae: 0.0435 - val_accuracy: 0.7756\n",
      "Epoch 238/1000\n",
      "166/166 [==============================] - 4s 26ms/step - loss: 0.0178 - mae: 0.0428 - accuracy: 0.7832 - val_loss: 0.0180 - val_mae: 0.0428 - val_accuracy: 0.7812\n",
      "Epoch 239/1000\n",
      "166/166 [==============================] - 4s 26ms/step - loss: 0.0178 - mae: 0.0427 - accuracy: 0.7833 - val_loss: 0.0181 - val_mae: 0.0437 - val_accuracy: 0.7808\n",
      "Epoch 240/1000\n",
      "166/166 [==============================] - 4s 26ms/step - loss: 0.0178 - mae: 0.0428 - accuracy: 0.7835 - val_loss: 0.0181 - val_mae: 0.0428 - val_accuracy: 0.7811\n",
      "Epoch 241/1000\n",
      "166/166 [==============================] - 4s 26ms/step - loss: 0.0178 - mae: 0.0427 - accuracy: 0.7828 - val_loss: 0.0184 - val_mae: 0.0438 - val_accuracy: 0.7739\n",
      "Epoch 242/1000\n",
      "166/166 [==============================] - 4s 26ms/step - loss: 0.0179 - mae: 0.0430 - accuracy: 0.7812 - val_loss: 0.0179 - val_mae: 0.0436 - val_accuracy: 0.7830\n",
      "Epoch 243/1000\n",
      "166/166 [==============================] - 4s 27ms/step - loss: 0.0178 - mae: 0.0430 - accuracy: 0.7833 - val_loss: 0.0179 - val_mae: 0.0431 - val_accuracy: 0.7838\n",
      "Epoch 244/1000\n",
      "166/166 [==============================] - 4s 27ms/step - loss: 0.0176 - mae: 0.0424 - accuracy: 0.7861 - val_loss: 0.0180 - val_mae: 0.0426 - val_accuracy: 0.7806\n",
      "Epoch 245/1000\n",
      "166/166 [==============================] - 4s 26ms/step - loss: 0.0175 - mae: 0.0424 - accuracy: 0.7863 - val_loss: 0.0183 - val_mae: 0.0439 - val_accuracy: 0.7767\n",
      "Epoch 246/1000\n",
      "166/166 [==============================] - 4s 26ms/step - loss: 0.0181 - mae: 0.0432 - accuracy: 0.7799 - val_loss: 0.0182 - val_mae: 0.0431 - val_accuracy: 0.7783\n",
      "Epoch 247/1000\n",
      "166/166 [==============================] - 4s 27ms/step - loss: 0.0179 - mae: 0.0428 - accuracy: 0.7813 - val_loss: 0.0179 - val_mae: 0.0432 - val_accuracy: 0.7834\n",
      "Epoch 248/1000\n",
      "166/166 [==============================] - 4s 26ms/step - loss: 0.0177 - mae: 0.0424 - accuracy: 0.7842 - val_loss: 0.0180 - val_mae: 0.0424 - val_accuracy: 0.7826\n",
      "Epoch 249/1000\n",
      "166/166 [==============================] - 4s 27ms/step - loss: 0.0177 - mae: 0.0425 - accuracy: 0.7849 - val_loss: 0.0184 - val_mae: 0.0439 - val_accuracy: 0.7772\n",
      "Epoch 250/1000\n",
      "166/166 [==============================] - 4s 26ms/step - loss: 0.0179 - mae: 0.0431 - accuracy: 0.7827 - val_loss: 0.0182 - val_mae: 0.0435 - val_accuracy: 0.7790\n",
      "Epoch 251/1000\n",
      "166/166 [==============================] - 4s 27ms/step - loss: 0.0177 - mae: 0.0426 - accuracy: 0.7841 - val_loss: 0.0182 - val_mae: 0.0441 - val_accuracy: 0.7783\n",
      "Epoch 252/1000\n",
      "166/166 [==============================] - 4s 26ms/step - loss: 0.0178 - mae: 0.0428 - accuracy: 0.7843 - val_loss: 0.0186 - val_mae: 0.0434 - val_accuracy: 0.7724\n",
      "Epoch 253/1000\n",
      "166/166 [==============================] - 4s 27ms/step - loss: 0.0177 - mae: 0.0424 - accuracy: 0.7846 - val_loss: 0.0181 - val_mae: 0.0426 - val_accuracy: 0.7813\n",
      "Epoch 254/1000\n",
      "166/166 [==============================] - 4s 27ms/step - loss: 0.0176 - mae: 0.0423 - accuracy: 0.7868 - val_loss: 0.0182 - val_mae: 0.0442 - val_accuracy: 0.7807\n",
      "Epoch 255/1000\n",
      "166/166 [==============================] - 5s 28ms/step - loss: 0.0177 - mae: 0.0426 - accuracy: 0.7856 - val_loss: 0.0179 - val_mae: 0.0433 - val_accuracy: 0.7832\n",
      "Epoch 256/1000\n",
      "166/166 [==============================] - 5s 29ms/step - loss: 0.0177 - mae: 0.0427 - accuracy: 0.7854 - val_loss: 0.0179 - val_mae: 0.0424 - val_accuracy: 0.7819\n",
      "Epoch 257/1000\n",
      "166/166 [==============================] - 5s 28ms/step - loss: 0.0178 - mae: 0.0427 - accuracy: 0.7826 - val_loss: 0.0180 - val_mae: 0.0437 - val_accuracy: 0.7815\n",
      "Epoch 258/1000\n",
      "166/166 [==============================] - 5s 28ms/step - loss: 0.0177 - mae: 0.0427 - accuracy: 0.7848 - val_loss: 0.0180 - val_mae: 0.0428 - val_accuracy: 0.7820\n",
      "Epoch 259/1000\n",
      "166/166 [==============================] - 5s 28ms/step - loss: 0.0180 - mae: 0.0431 - accuracy: 0.7807 - val_loss: 0.0179 - val_mae: 0.0424 - val_accuracy: 0.7841\n",
      "Epoch 260/1000\n",
      "166/166 [==============================] - 5s 28ms/step - loss: 0.0178 - mae: 0.0426 - accuracy: 0.7826 - val_loss: 0.0180 - val_mae: 0.0428 - val_accuracy: 0.7819\n",
      "Epoch 261/1000\n",
      "166/166 [==============================] - 5s 28ms/step - loss: 0.0178 - mae: 0.0428 - accuracy: 0.7831 - val_loss: 0.0180 - val_mae: 0.0426 - val_accuracy: 0.7830\n",
      "Epoch 262/1000\n",
      "166/166 [==============================] - 5s 28ms/step - loss: 0.0175 - mae: 0.0421 - accuracy: 0.7873 - val_loss: 0.0180 - val_mae: 0.0429 - val_accuracy: 0.7825\n",
      "Epoch 263/1000\n",
      "166/166 [==============================] - 5s 28ms/step - loss: 0.0176 - mae: 0.0422 - accuracy: 0.7864 - val_loss: 0.0188 - val_mae: 0.0430 - val_accuracy: 0.7704\n",
      "Epoch 264/1000\n",
      "166/166 [==============================] - 4s 27ms/step - loss: 0.0179 - mae: 0.0428 - accuracy: 0.7814 - val_loss: 0.0184 - val_mae: 0.0446 - val_accuracy: 0.7760\n",
      "Epoch 265/1000\n",
      "166/166 [==============================] - 4s 27ms/step - loss: 0.0177 - mae: 0.0427 - accuracy: 0.7856 - val_loss: 0.0180 - val_mae: 0.0424 - val_accuracy: 0.7815\n",
      "Epoch 266/1000\n",
      "166/166 [==============================] - 4s 27ms/step - loss: 0.0175 - mae: 0.0420 - accuracy: 0.7876 - val_loss: 0.0180 - val_mae: 0.0431 - val_accuracy: 0.7819\n",
      "Epoch 267/1000\n",
      "166/166 [==============================] - 5s 27ms/step - loss: 0.0177 - mae: 0.0423 - accuracy: 0.7853 - val_loss: 0.0183 - val_mae: 0.0430 - val_accuracy: 0.7759\n",
      "Epoch 268/1000\n",
      "166/166 [==============================] - 5s 28ms/step - loss: 0.0177 - mae: 0.0426 - accuracy: 0.7841 - val_loss: 0.0180 - val_mae: 0.0438 - val_accuracy: 0.7811\n",
      "Epoch 269/1000\n",
      "166/166 [==============================] - 5s 28ms/step - loss: 0.0178 - mae: 0.0428 - accuracy: 0.7827 - val_loss: 0.0180 - val_mae: 0.0427 - val_accuracy: 0.7805\n",
      "Epoch 270/1000\n",
      "166/166 [==============================] - 5s 28ms/step - loss: 0.0175 - mae: 0.0422 - accuracy: 0.7876 - val_loss: 0.0180 - val_mae: 0.0431 - val_accuracy: 0.7810\n",
      "Epoch 271/1000\n",
      "166/166 [==============================] - 5s 28ms/step - loss: 0.0177 - mae: 0.0427 - accuracy: 0.7839 - val_loss: 0.0180 - val_mae: 0.0424 - val_accuracy: 0.7811\n",
      "Epoch 272/1000\n",
      "166/166 [==============================] - 5s 28ms/step - loss: 0.0176 - mae: 0.0421 - accuracy: 0.7869 - val_loss: 0.0182 - val_mae: 0.0428 - val_accuracy: 0.7782\n",
      "Epoch 273/1000\n",
      "166/166 [==============================] - 5s 28ms/step - loss: 0.0175 - mae: 0.0421 - accuracy: 0.7877 - val_loss: 0.0182 - val_mae: 0.0431 - val_accuracy: 0.7792\n",
      "Epoch 274/1000\n",
      "166/166 [==============================] - 5s 28ms/step - loss: 0.0175 - mae: 0.0422 - accuracy: 0.7872 - val_loss: 0.0181 - val_mae: 0.0427 - val_accuracy: 0.7775\n",
      "Epoch 275/1000\n",
      "166/166 [==============================] - 5s 28ms/step - loss: 0.0175 - mae: 0.0422 - accuracy: 0.7869 - val_loss: 0.0180 - val_mae: 0.0426 - val_accuracy: 0.7814\n",
      "Epoch 276/1000\n",
      "166/166 [==============================] - 5s 28ms/step - loss: 0.0176 - mae: 0.0424 - accuracy: 0.7857 - val_loss: 0.0182 - val_mae: 0.0429 - val_accuracy: 0.7775\n"
     ]
    },
    {
     "name": "stdout",
     "output_type": "stream",
     "text": [
      "Epoch 277/1000\n",
      "166/166 [==============================] - 5s 27ms/step - loss: 0.0176 - mae: 0.0423 - accuracy: 0.7864 - val_loss: 0.0179 - val_mae: 0.0429 - val_accuracy: 0.7830\n",
      "Epoch 278/1000\n",
      "166/166 [==============================] - 4s 26ms/step - loss: 0.0174 - mae: 0.0418 - accuracy: 0.7894 - val_loss: 0.0179 - val_mae: 0.0426 - val_accuracy: 0.7817\n",
      "Epoch 279/1000\n",
      "166/166 [==============================] - 4s 26ms/step - loss: 0.0177 - mae: 0.0424 - accuracy: 0.7856 - val_loss: 0.0180 - val_mae: 0.0431 - val_accuracy: 0.7820\n",
      "Epoch 280/1000\n",
      "166/166 [==============================] - 4s 27ms/step - loss: 0.0177 - mae: 0.0423 - accuracy: 0.7844 - val_loss: 0.0181 - val_mae: 0.0437 - val_accuracy: 0.7804\n",
      "Epoch 281/1000\n",
      "166/166 [==============================] - 4s 26ms/step - loss: 0.0174 - mae: 0.0420 - accuracy: 0.7880 - val_loss: 0.0181 - val_mae: 0.0436 - val_accuracy: 0.7818\n",
      "Epoch 282/1000\n",
      "166/166 [==============================] - 4s 26ms/step - loss: 0.0175 - mae: 0.0421 - accuracy: 0.7874 - val_loss: 0.0179 - val_mae: 0.0429 - val_accuracy: 0.7838\n",
      "Epoch 283/1000\n",
      "166/166 [==============================] - 4s 26ms/step - loss: 0.0178 - mae: 0.0427 - accuracy: 0.7836 - val_loss: 0.0177 - val_mae: 0.0425 - val_accuracy: 0.7854\n",
      "Epoch 284/1000\n",
      "166/166 [==============================] - 4s 27ms/step - loss: 0.0175 - mae: 0.0422 - accuracy: 0.7869 - val_loss: 0.0183 - val_mae: 0.0436 - val_accuracy: 0.7766\n",
      "Epoch 285/1000\n",
      "166/166 [==============================] - 4s 26ms/step - loss: 0.0179 - mae: 0.0429 - accuracy: 0.7818 - val_loss: 0.0183 - val_mae: 0.0434 - val_accuracy: 0.7767\n",
      "Epoch 286/1000\n",
      "166/166 [==============================] - 4s 27ms/step - loss: 0.0176 - mae: 0.0424 - accuracy: 0.7855 - val_loss: 0.0181 - val_mae: 0.0432 - val_accuracy: 0.7798\n",
      "Epoch 287/1000\n",
      "166/166 [==============================] - 5s 27ms/step - loss: 0.0176 - mae: 0.0424 - accuracy: 0.7844 - val_loss: 0.0182 - val_mae: 0.0428 - val_accuracy: 0.7760\n",
      "Epoch 288/1000\n",
      "166/166 [==============================] - 5s 27ms/step - loss: 0.0178 - mae: 0.0426 - accuracy: 0.7832 - val_loss: 0.0179 - val_mae: 0.0423 - val_accuracy: 0.7833\n",
      "Epoch 289/1000\n",
      "166/166 [==============================] - 5s 27ms/step - loss: 0.0176 - mae: 0.0423 - accuracy: 0.7853 - val_loss: 0.0178 - val_mae: 0.0427 - val_accuracy: 0.7836\n",
      "Epoch 290/1000\n",
      "166/166 [==============================] - 5s 27ms/step - loss: 0.0175 - mae: 0.0421 - accuracy: 0.7878 - val_loss: 0.0184 - val_mae: 0.0435 - val_accuracy: 0.7767\n",
      "Epoch 291/1000\n",
      "166/166 [==============================] - 4s 27ms/step - loss: 0.0176 - mae: 0.0423 - accuracy: 0.7853 - val_loss: 0.0181 - val_mae: 0.0432 - val_accuracy: 0.7785\n",
      "Epoch 292/1000\n",
      "166/166 [==============================] - 4s 27ms/step - loss: 0.0174 - mae: 0.0418 - accuracy: 0.7892 - val_loss: 0.0179 - val_mae: 0.0434 - val_accuracy: 0.7829\n",
      "Epoch 293/1000\n",
      "166/166 [==============================] - 4s 26ms/step - loss: 0.0175 - mae: 0.0423 - accuracy: 0.7872 - val_loss: 0.0188 - val_mae: 0.0445 - val_accuracy: 0.7679\n",
      "Epoch 294/1000\n",
      "166/166 [==============================] - 4s 26ms/step - loss: 0.0175 - mae: 0.0422 - accuracy: 0.7879 - val_loss: 0.0179 - val_mae: 0.0424 - val_accuracy: 0.7828\n",
      "Epoch 295/1000\n",
      "166/166 [==============================] - 4s 26ms/step - loss: 0.0175 - mae: 0.0421 - accuracy: 0.7866 - val_loss: 0.0178 - val_mae: 0.0427 - val_accuracy: 0.7846\n",
      "Epoch 296/1000\n",
      "166/166 [==============================] - 4s 27ms/step - loss: 0.0176 - mae: 0.0424 - accuracy: 0.7859 - val_loss: 0.0178 - val_mae: 0.0420 - val_accuracy: 0.7845\n",
      "Epoch 297/1000\n",
      "166/166 [==============================] - 5s 27ms/step - loss: 0.0175 - mae: 0.0421 - accuracy: 0.7865 - val_loss: 0.0177 - val_mae: 0.0425 - val_accuracy: 0.7852\n",
      "Epoch 298/1000\n",
      "166/166 [==============================] - 5s 27ms/step - loss: 0.0175 - mae: 0.0419 - accuracy: 0.7878 - val_loss: 0.0182 - val_mae: 0.0428 - val_accuracy: 0.7781\n",
      "Epoch 299/1000\n",
      "166/166 [==============================] - 5s 27ms/step - loss: 0.0174 - mae: 0.0420 - accuracy: 0.7891 - val_loss: 0.0181 - val_mae: 0.0437 - val_accuracy: 0.7790\n",
      "Epoch 300/1000\n",
      "166/166 [==============================] - 5s 27ms/step - loss: 0.0174 - mae: 0.0420 - accuracy: 0.7893 - val_loss: 0.0179 - val_mae: 0.0429 - val_accuracy: 0.7832\n",
      "Epoch 301/1000\n",
      "166/166 [==============================] - 5s 27ms/step - loss: 0.0175 - mae: 0.0422 - accuracy: 0.7875 - val_loss: 0.0179 - val_mae: 0.0417 - val_accuracy: 0.7831\n",
      "Epoch 302/1000\n",
      "166/166 [==============================] - 4s 27ms/step - loss: 0.0174 - mae: 0.0418 - accuracy: 0.7889 - val_loss: 0.0178 - val_mae: 0.0424 - val_accuracy: 0.7842\n",
      "Epoch 303/1000\n",
      "166/166 [==============================] - 4s 26ms/step - loss: 0.0176 - mae: 0.0422 - accuracy: 0.7855 - val_loss: 0.0182 - val_mae: 0.0436 - val_accuracy: 0.7780\n",
      "Epoch 304/1000\n",
      "166/166 [==============================] - 4s 27ms/step - loss: 0.0175 - mae: 0.0421 - accuracy: 0.7873 - val_loss: 0.0178 - val_mae: 0.0429 - val_accuracy: 0.7820\n",
      "Epoch 305/1000\n",
      "166/166 [==============================] - 4s 27ms/step - loss: 0.0174 - mae: 0.0419 - accuracy: 0.7891 - val_loss: 0.0180 - val_mae: 0.0426 - val_accuracy: 0.7801\n",
      "Epoch 306/1000\n",
      "166/166 [==============================] - 4s 27ms/step - loss: 0.0174 - mae: 0.0420 - accuracy: 0.7887 - val_loss: 0.0183 - val_mae: 0.0435 - val_accuracy: 0.7790\n",
      "Epoch 307/1000\n",
      "166/166 [==============================] - 5s 27ms/step - loss: 0.0177 - mae: 0.0424 - accuracy: 0.7852 - val_loss: 0.0181 - val_mae: 0.0429 - val_accuracy: 0.7802\n",
      "Epoch 308/1000\n",
      "166/166 [==============================] - 5s 27ms/step - loss: 0.0175 - mae: 0.0419 - accuracy: 0.7876 - val_loss: 0.0182 - val_mae: 0.0431 - val_accuracy: 0.7776\n",
      "Epoch 309/1000\n",
      "166/166 [==============================] - 5s 28ms/step - loss: 0.0176 - mae: 0.0422 - accuracy: 0.7857 - val_loss: 0.0179 - val_mae: 0.0424 - val_accuracy: 0.7824\n",
      "Epoch 310/1000\n",
      "166/166 [==============================] - 5s 27ms/step - loss: 0.0173 - mae: 0.0417 - accuracy: 0.7899 - val_loss: 0.0177 - val_mae: 0.0422 - val_accuracy: 0.7853\n",
      "Epoch 311/1000\n",
      "166/166 [==============================] - 5s 27ms/step - loss: 0.0174 - mae: 0.0420 - accuracy: 0.7885 - val_loss: 0.0181 - val_mae: 0.0427 - val_accuracy: 0.7783\n",
      "Epoch 312/1000\n",
      "166/166 [==============================] - 5s 27ms/step - loss: 0.0174 - mae: 0.0418 - accuracy: 0.7873 - val_loss: 0.0177 - val_mae: 0.0420 - val_accuracy: 0.7842\n",
      "Epoch 313/1000\n",
      "166/166 [==============================] - 5s 27ms/step - loss: 0.0174 - mae: 0.0419 - accuracy: 0.7891 - val_loss: 0.0188 - val_mae: 0.0431 - val_accuracy: 0.7701\n",
      "Epoch 314/1000\n",
      "166/166 [==============================] - 5s 27ms/step - loss: 0.0176 - mae: 0.0422 - accuracy: 0.7860 - val_loss: 0.0182 - val_mae: 0.0437 - val_accuracy: 0.7779\n",
      "Epoch 315/1000\n",
      "166/166 [==============================] - 5s 27ms/step - loss: 0.0176 - mae: 0.0422 - accuracy: 0.7869 - val_loss: 0.0178 - val_mae: 0.0430 - val_accuracy: 0.7841\n",
      "Epoch 316/1000\n",
      "166/166 [==============================] - 4s 27ms/step - loss: 0.0173 - mae: 0.0416 - accuracy: 0.7910 - val_loss: 0.0180 - val_mae: 0.0434 - val_accuracy: 0.7825\n",
      "Epoch 317/1000\n",
      "166/166 [==============================] - 5s 28ms/step - loss: 0.0175 - mae: 0.0422 - accuracy: 0.7875 - val_loss: 0.0177 - val_mae: 0.0420 - val_accuracy: 0.7849\n",
      "Epoch 318/1000\n",
      "166/166 [==============================] - 5s 27ms/step - loss: 0.0175 - mae: 0.0420 - accuracy: 0.7869 - val_loss: 0.0182 - val_mae: 0.0424 - val_accuracy: 0.7791\n",
      "Epoch 319/1000\n",
      "166/166 [==============================] - 5s 28ms/step - loss: 0.0174 - mae: 0.0419 - accuracy: 0.7889 - val_loss: 0.0181 - val_mae: 0.0428 - val_accuracy: 0.7787\n",
      "Epoch 320/1000\n",
      "166/166 [==============================] - 5s 28ms/step - loss: 0.0177 - mae: 0.0424 - accuracy: 0.7852 - val_loss: 0.0177 - val_mae: 0.0425 - val_accuracy: 0.7855\n",
      "Epoch 321/1000\n",
      "166/166 [==============================] - 5s 29ms/step - loss: 0.0174 - mae: 0.0420 - accuracy: 0.7885 - val_loss: 0.0176 - val_mae: 0.0421 - val_accuracy: 0.7863\n",
      "Epoch 322/1000\n",
      "166/166 [==============================] - 5s 29ms/step - loss: 0.0175 - mae: 0.0419 - accuracy: 0.7869 - val_loss: 0.0182 - val_mae: 0.0445 - val_accuracy: 0.7811\n"
     ]
    },
    {
     "name": "stdout",
     "output_type": "stream",
     "text": [
      "Epoch 323/1000\n",
      "166/166 [==============================] - 5s 28ms/step - loss: 0.0177 - mae: 0.0427 - accuracy: 0.7854 - val_loss: 0.0181 - val_mae: 0.0429 - val_accuracy: 0.7792\n",
      "Epoch 324/1000\n",
      "166/166 [==============================] - 5s 29ms/step - loss: 0.0173 - mae: 0.0417 - accuracy: 0.7913 - val_loss: 0.0178 - val_mae: 0.0432 - val_accuracy: 0.7839\n",
      "Epoch 325/1000\n",
      "166/166 [==============================] - 5s 29ms/step - loss: 0.0174 - mae: 0.0421 - accuracy: 0.7879 - val_loss: 0.0180 - val_mae: 0.0426 - val_accuracy: 0.7805\n",
      "Epoch 326/1000\n",
      "166/166 [==============================] - 5s 28ms/step - loss: 0.0175 - mae: 0.0421 - accuracy: 0.7864 - val_loss: 0.0178 - val_mae: 0.0424 - val_accuracy: 0.7849\n",
      "Epoch 327/1000\n",
      "166/166 [==============================] - 5s 27ms/step - loss: 0.0173 - mae: 0.0416 - accuracy: 0.7903 - val_loss: 0.0179 - val_mae: 0.0429 - val_accuracy: 0.7825\n",
      "Epoch 328/1000\n",
      "166/166 [==============================] - 5s 28ms/step - loss: 0.0174 - mae: 0.0419 - accuracy: 0.7899 - val_loss: 0.0181 - val_mae: 0.0434 - val_accuracy: 0.7814\n",
      "Epoch 329/1000\n",
      "166/166 [==============================] - 5s 28ms/step - loss: 0.0175 - mae: 0.0420 - accuracy: 0.7881 - val_loss: 0.0180 - val_mae: 0.0438 - val_accuracy: 0.7816\n",
      "Epoch 330/1000\n",
      "166/166 [==============================] - 5s 27ms/step - loss: 0.0175 - mae: 0.0424 - accuracy: 0.7878 - val_loss: 0.0180 - val_mae: 0.0431 - val_accuracy: 0.7827\n",
      "Epoch 331/1000\n",
      "166/166 [==============================] - 5s 28ms/step - loss: 0.0175 - mae: 0.0420 - accuracy: 0.7872 - val_loss: 0.0182 - val_mae: 0.0432 - val_accuracy: 0.7783\n",
      "Epoch 332/1000\n",
      "166/166 [==============================] - 5s 28ms/step - loss: 0.0173 - mae: 0.0417 - accuracy: 0.7904 - val_loss: 0.0179 - val_mae: 0.0428 - val_accuracy: 0.7832\n",
      "Epoch 333/1000\n",
      "166/166 [==============================] - 5s 28ms/step - loss: 0.0176 - mae: 0.0423 - accuracy: 0.7863 - val_loss: 0.0178 - val_mae: 0.0423 - val_accuracy: 0.7831\n",
      "Epoch 334/1000\n",
      "166/166 [==============================] - 5s 28ms/step - loss: 0.0174 - mae: 0.0416 - accuracy: 0.7894 - val_loss: 0.0181 - val_mae: 0.0428 - val_accuracy: 0.7801\n",
      "Epoch 335/1000\n",
      "166/166 [==============================] - 5s 28ms/step - loss: 0.0174 - mae: 0.0418 - accuracy: 0.7881 - val_loss: 0.0177 - val_mae: 0.0419 - val_accuracy: 0.7858\n",
      "Epoch 336/1000\n",
      "166/166 [==============================] - 5s 28ms/step - loss: 0.0172 - mae: 0.0414 - accuracy: 0.7919 - val_loss: 0.0178 - val_mae: 0.0425 - val_accuracy: 0.7857\n",
      "Epoch 337/1000\n",
      "166/166 [==============================] - 5s 28ms/step - loss: 0.0173 - mae: 0.0416 - accuracy: 0.7907 - val_loss: 0.0177 - val_mae: 0.0423 - val_accuracy: 0.7852\n",
      "Epoch 338/1000\n",
      "166/166 [==============================] - 5s 28ms/step - loss: 0.0172 - mae: 0.0415 - accuracy: 0.7913 - val_loss: 0.0180 - val_mae: 0.0430 - val_accuracy: 0.7823\n",
      "Epoch 339/1000\n",
      "166/166 [==============================] - 5s 28ms/step - loss: 0.0171 - mae: 0.0415 - accuracy: 0.7915 - val_loss: 0.0179 - val_mae: 0.0427 - val_accuracy: 0.7838\n",
      "Epoch 340/1000\n",
      "166/166 [==============================] - 5s 28ms/step - loss: 0.0173 - mae: 0.0419 - accuracy: 0.7901 - val_loss: 0.0176 - val_mae: 0.0420 - val_accuracy: 0.7871\n",
      "Epoch 341/1000\n",
      "166/166 [==============================] - 5s 28ms/step - loss: 0.0175 - mae: 0.0419 - accuracy: 0.7883 - val_loss: 0.0181 - val_mae: 0.0432 - val_accuracy: 0.7802\n",
      "Epoch 342/1000\n",
      "166/166 [==============================] - 5s 28ms/step - loss: 0.0173 - mae: 0.0418 - accuracy: 0.7899 - val_loss: 0.0178 - val_mae: 0.0422 - val_accuracy: 0.7838\n",
      "Epoch 343/1000\n",
      "166/166 [==============================] - 5s 28ms/step - loss: 0.0173 - mae: 0.0418 - accuracy: 0.7899 - val_loss: 0.0180 - val_mae: 0.0430 - val_accuracy: 0.7793\n",
      "Epoch 344/1000\n",
      "166/166 [==============================] - 5s 29ms/step - loss: 0.0173 - mae: 0.0416 - accuracy: 0.7911 - val_loss: 0.0176 - val_mae: 0.0427 - val_accuracy: 0.7859\n",
      "Epoch 345/1000\n",
      "166/166 [==============================] - 5s 29ms/step - loss: 0.0171 - mae: 0.0415 - accuracy: 0.7925 - val_loss: 0.0177 - val_mae: 0.0424 - val_accuracy: 0.7845\n",
      "Epoch 346/1000\n",
      "166/166 [==============================] - 5s 29ms/step - loss: 0.0175 - mae: 0.0420 - accuracy: 0.7877 - val_loss: 0.0178 - val_mae: 0.0423 - val_accuracy: 0.7840\n",
      "Epoch 347/1000\n",
      "166/166 [==============================] - 5s 29ms/step - loss: 0.0173 - mae: 0.0415 - accuracy: 0.7907 - val_loss: 0.0178 - val_mae: 0.0427 - val_accuracy: 0.7838\n",
      "Epoch 348/1000\n",
      "166/166 [==============================] - 5s 28ms/step - loss: 0.0173 - mae: 0.0417 - accuracy: 0.7911 - val_loss: 0.0176 - val_mae: 0.0421 - val_accuracy: 0.7870\n",
      "Epoch 349/1000\n",
      "166/166 [==============================] - 5s 29ms/step - loss: 0.0174 - mae: 0.0418 - accuracy: 0.7888 - val_loss: 0.0178 - val_mae: 0.0426 - val_accuracy: 0.7838\n",
      "Epoch 350/1000\n",
      "166/166 [==============================] - 5s 28ms/step - loss: 0.0173 - mae: 0.0416 - accuracy: 0.7904 - val_loss: 0.0178 - val_mae: 0.0429 - val_accuracy: 0.7845\n",
      "Epoch 351/1000\n",
      "166/166 [==============================] - 5s 28ms/step - loss: 0.0174 - mae: 0.0419 - accuracy: 0.7882 - val_loss: 0.0178 - val_mae: 0.0426 - val_accuracy: 0.7846\n",
      "Epoch 352/1000\n",
      "166/166 [==============================] - 5s 28ms/step - loss: 0.0173 - mae: 0.0417 - accuracy: 0.7906 - val_loss: 0.0183 - val_mae: 0.0437 - val_accuracy: 0.7766\n",
      "Epoch 353/1000\n",
      "166/166 [==============================] - 5s 28ms/step - loss: 0.0175 - mae: 0.0422 - accuracy: 0.7868 - val_loss: 0.0177 - val_mae: 0.0428 - val_accuracy: 0.7862\n",
      "Epoch 354/1000\n",
      "166/166 [==============================] - 5s 29ms/step - loss: 0.0171 - mae: 0.0414 - accuracy: 0.7925 - val_loss: 0.0177 - val_mae: 0.0425 - val_accuracy: 0.7856\n",
      "Epoch 355/1000\n",
      "166/166 [==============================] - 5s 29ms/step - loss: 0.0172 - mae: 0.0416 - accuracy: 0.7918 - val_loss: 0.0182 - val_mae: 0.0435 - val_accuracy: 0.7791\n",
      "Epoch 356/1000\n",
      "166/166 [==============================] - 5s 29ms/step - loss: 0.0175 - mae: 0.0421 - accuracy: 0.7876 - val_loss: 0.0178 - val_mae: 0.0425 - val_accuracy: 0.7832\n",
      "Epoch 357/1000\n",
      "166/166 [==============================] - 5s 29ms/step - loss: 0.0172 - mae: 0.0414 - accuracy: 0.7924 - val_loss: 0.0181 - val_mae: 0.0431 - val_accuracy: 0.7831\n",
      "Epoch 358/1000\n",
      "166/166 [==============================] - 5s 29ms/step - loss: 0.0174 - mae: 0.0417 - accuracy: 0.7891 - val_loss: 0.0178 - val_mae: 0.0423 - val_accuracy: 0.7851\n",
      "Epoch 359/1000\n",
      "166/166 [==============================] - 5s 29ms/step - loss: 0.0174 - mae: 0.0420 - accuracy: 0.7885 - val_loss: 0.0177 - val_mae: 0.0424 - val_accuracy: 0.7855\n",
      "Epoch 360/1000\n",
      "166/166 [==============================] - 5s 29ms/step - loss: 0.0171 - mae: 0.0413 - accuracy: 0.7931 - val_loss: 0.0181 - val_mae: 0.0435 - val_accuracy: 0.7797\n",
      "Epoch 361/1000\n",
      "166/166 [==============================] - 5s 29ms/step - loss: 0.0173 - mae: 0.0417 - accuracy: 0.7907 - val_loss: 0.0177 - val_mae: 0.0424 - val_accuracy: 0.7849\n",
      "Epoch 362/1000\n",
      "166/166 [==============================] - 5s 29ms/step - loss: 0.0176 - mae: 0.0420 - accuracy: 0.7866 - val_loss: 0.0186 - val_mae: 0.0439 - val_accuracy: 0.7727\n",
      "Epoch 363/1000\n",
      "166/166 [==============================] - 5s 29ms/step - loss: 0.0174 - mae: 0.0422 - accuracy: 0.7889 - val_loss: 0.0177 - val_mae: 0.0425 - val_accuracy: 0.7868\n",
      "Epoch 364/1000\n",
      "166/166 [==============================] - 5s 28ms/step - loss: 0.0172 - mae: 0.0416 - accuracy: 0.7903 - val_loss: 0.0177 - val_mae: 0.0421 - val_accuracy: 0.7858\n",
      "Epoch 365/1000\n",
      "166/166 [==============================] - 5s 28ms/step - loss: 0.0173 - mae: 0.0416 - accuracy: 0.7902 - val_loss: 0.0180 - val_mae: 0.0434 - val_accuracy: 0.7807\n",
      "Epoch 366/1000\n",
      "166/166 [==============================] - 5s 28ms/step - loss: 0.0171 - mae: 0.0414 - accuracy: 0.7925 - val_loss: 0.0176 - val_mae: 0.0418 - val_accuracy: 0.7862\n",
      "Epoch 367/1000\n",
      "166/166 [==============================] - 5s 28ms/step - loss: 0.0173 - mae: 0.0415 - accuracy: 0.7909 - val_loss: 0.0177 - val_mae: 0.0423 - val_accuracy: 0.7863\n",
      "Epoch 368/1000\n",
      "166/166 [==============================] - 5s 29ms/step - loss: 0.0171 - mae: 0.0413 - accuracy: 0.7929 - val_loss: 0.0176 - val_mae: 0.0420 - val_accuracy: 0.7851\n"
     ]
    },
    {
     "name": "stdout",
     "output_type": "stream",
     "text": [
      "Epoch 369/1000\n",
      "166/166 [==============================] - 5s 28ms/step - loss: 0.0171 - mae: 0.0414 - accuracy: 0.7920 - val_loss: 0.0179 - val_mae: 0.0426 - val_accuracy: 0.7803\n",
      "Epoch 370/1000\n",
      "166/166 [==============================] - 5s 28ms/step - loss: 0.0175 - mae: 0.0420 - accuracy: 0.7884 - val_loss: 0.0179 - val_mae: 0.0427 - val_accuracy: 0.7828\n",
      "Epoch 371/1000\n",
      "166/166 [==============================] - 5s 28ms/step - loss: 0.0172 - mae: 0.0415 - accuracy: 0.7911 - val_loss: 0.0181 - val_mae: 0.0422 - val_accuracy: 0.7801\n",
      "Epoch 372/1000\n",
      "166/166 [==============================] - 5s 28ms/step - loss: 0.0174 - mae: 0.0419 - accuracy: 0.7871 - val_loss: 0.0178 - val_mae: 0.0421 - val_accuracy: 0.7830\n",
      "Epoch 373/1000\n",
      "166/166 [==============================] - 5s 27ms/step - loss: 0.0172 - mae: 0.0415 - accuracy: 0.7905 - val_loss: 0.0178 - val_mae: 0.0428 - val_accuracy: 0.7858\n",
      "Epoch 374/1000\n",
      "166/166 [==============================] - 5s 27ms/step - loss: 0.0173 - mae: 0.0416 - accuracy: 0.7914 - val_loss: 0.0176 - val_mae: 0.0424 - val_accuracy: 0.7864\n",
      "Epoch 375/1000\n",
      "166/166 [==============================] - 5s 28ms/step - loss: 0.0172 - mae: 0.0415 - accuracy: 0.7917 - val_loss: 0.0176 - val_mae: 0.0422 - val_accuracy: 0.7883\n",
      "Epoch 376/1000\n",
      "166/166 [==============================] - 5s 28ms/step - loss: 0.0172 - mae: 0.0415 - accuracy: 0.7912 - val_loss: 0.0180 - val_mae: 0.0425 - val_accuracy: 0.7800\n",
      "Epoch 377/1000\n",
      "166/166 [==============================] - 5s 28ms/step - loss: 0.0173 - mae: 0.0417 - accuracy: 0.7898 - val_loss: 0.0179 - val_mae: 0.0426 - val_accuracy: 0.7824\n",
      "Epoch 378/1000\n",
      "166/166 [==============================] - 5s 28ms/step - loss: 0.0173 - mae: 0.0416 - accuracy: 0.7901 - val_loss: 0.0177 - val_mae: 0.0420 - val_accuracy: 0.7845\n",
      "Epoch 379/1000\n",
      "166/166 [==============================] - 5s 28ms/step - loss: 0.0173 - mae: 0.0416 - accuracy: 0.7910 - val_loss: 0.0180 - val_mae: 0.0430 - val_accuracy: 0.7817\n",
      "Epoch 380/1000\n",
      "166/166 [==============================] - 5s 29ms/step - loss: 0.0174 - mae: 0.0419 - accuracy: 0.7908 - val_loss: 0.0177 - val_mae: 0.0424 - val_accuracy: 0.7853\n",
      "Epoch 381/1000\n",
      "166/166 [==============================] - 5s 28ms/step - loss: 0.0172 - mae: 0.0414 - accuracy: 0.7916 - val_loss: 0.0176 - val_mae: 0.0426 - val_accuracy: 0.7854\n",
      "Epoch 382/1000\n",
      "166/166 [==============================] - 5s 28ms/step - loss: 0.0173 - mae: 0.0416 - accuracy: 0.7905 - val_loss: 0.0185 - val_mae: 0.0433 - val_accuracy: 0.7740\n",
      "Epoch 383/1000\n",
      "166/166 [==============================] - 5s 29ms/step - loss: 0.0175 - mae: 0.0420 - accuracy: 0.7875 - val_loss: 0.0179 - val_mae: 0.0424 - val_accuracy: 0.7828\n",
      "Epoch 384/1000\n",
      "166/166 [==============================] - 5s 29ms/step - loss: 0.0176 - mae: 0.0419 - accuracy: 0.7860 - val_loss: 0.0176 - val_mae: 0.0417 - val_accuracy: 0.7871\n",
      "Epoch 385/1000\n",
      "166/166 [==============================] - 5s 29ms/step - loss: 0.0173 - mae: 0.0413 - accuracy: 0.7909 - val_loss: 0.0178 - val_mae: 0.0422 - val_accuracy: 0.7827\n",
      "Epoch 386/1000\n",
      "166/166 [==============================] - 5s 29ms/step - loss: 0.0172 - mae: 0.0414 - accuracy: 0.7914 - val_loss: 0.0180 - val_mae: 0.0421 - val_accuracy: 0.7809\n",
      "Epoch 387/1000\n",
      "166/166 [==============================] - 5s 28ms/step - loss: 0.0173 - mae: 0.0416 - accuracy: 0.7905 - val_loss: 0.0179 - val_mae: 0.0426 - val_accuracy: 0.7819\n",
      "Epoch 388/1000\n",
      "166/166 [==============================] - 5s 28ms/step - loss: 0.0172 - mae: 0.0415 - accuracy: 0.7911 - val_loss: 0.0177 - val_mae: 0.0418 - val_accuracy: 0.7867\n",
      "Epoch 389/1000\n",
      "166/166 [==============================] - 5s 28ms/step - loss: 0.0172 - mae: 0.0413 - accuracy: 0.7914 - val_loss: 0.0177 - val_mae: 0.0422 - val_accuracy: 0.7859\n",
      "Epoch 390/1000\n",
      "166/166 [==============================] - 5s 28ms/step - loss: 0.0172 - mae: 0.0414 - accuracy: 0.7907 - val_loss: 0.0177 - val_mae: 0.0430 - val_accuracy: 0.7874\n",
      "Epoch 391/1000\n",
      "166/166 [==============================] - 5s 29ms/step - loss: 0.0171 - mae: 0.0415 - accuracy: 0.7932 - val_loss: 0.0176 - val_mae: 0.0416 - val_accuracy: 0.7868\n",
      "Epoch 392/1000\n",
      "166/166 [==============================] - 5s 29ms/step - loss: 0.0172 - mae: 0.0416 - accuracy: 0.7907 - val_loss: 0.0175 - val_mae: 0.0421 - val_accuracy: 0.7885\n",
      "Epoch 393/1000\n",
      "166/166 [==============================] - 5s 29ms/step - loss: 0.0170 - mae: 0.0411 - accuracy: 0.7945 - val_loss: 0.0178 - val_mae: 0.0425 - val_accuracy: 0.7834\n",
      "Epoch 394/1000\n",
      "166/166 [==============================] - 5s 29ms/step - loss: 0.0172 - mae: 0.0414 - accuracy: 0.7912 - val_loss: 0.0178 - val_mae: 0.0426 - val_accuracy: 0.7833\n",
      "Epoch 395/1000\n",
      "166/166 [==============================] - 5s 29ms/step - loss: 0.0173 - mae: 0.0417 - accuracy: 0.7910 - val_loss: 0.0190 - val_mae: 0.0434 - val_accuracy: 0.7695\n",
      "Epoch 396/1000\n",
      "166/166 [==============================] - 5s 30ms/step - loss: 0.0172 - mae: 0.0415 - accuracy: 0.7910 - val_loss: 0.0176 - val_mae: 0.0417 - val_accuracy: 0.7859\n",
      "Epoch 397/1000\n",
      " 41/166 [======>.......................] - ETA: 3s - loss: 0.0173 - mae: 0.0417 - accuracy: 0.7888"
     ]
    },
    {
     "ename": "KeyboardInterrupt",
     "evalue": "",
     "output_type": "error",
     "traceback": [
      "\u001b[0;31m---------------------------------------------------------------------------\u001b[0m",
      "\u001b[0;31mKeyboardInterrupt\u001b[0m                         Traceback (most recent call last)",
      "\u001b[0;32m<ipython-input-21-579c5bee3bfa>\u001b[0m in \u001b[0;36m<module>\u001b[0;34m\u001b[0m\n\u001b[1;32m      1\u001b[0m \u001b[0mmodel\u001b[0m\u001b[0;34m.\u001b[0m\u001b[0mcompile\u001b[0m\u001b[0;34m(\u001b[0m\u001b[0mloss\u001b[0m\u001b[0;34m=\u001b[0m\u001b[0;34m'mse'\u001b[0m\u001b[0;34m,\u001b[0m \u001b[0moptimizer\u001b[0m\u001b[0;34m=\u001b[0m\u001b[0;34m'adam'\u001b[0m\u001b[0;34m,\u001b[0m \u001b[0mmetrics\u001b[0m\u001b[0;34m=\u001b[0m\u001b[0;34m[\u001b[0m\u001b[0;34m'mae'\u001b[0m\u001b[0;34m,\u001b[0m \u001b[0;34m'accuracy'\u001b[0m\u001b[0;34m]\u001b[0m\u001b[0;34m)\u001b[0m\u001b[0;34m\u001b[0m\u001b[0;34m\u001b[0m\u001b[0m\n\u001b[1;32m      2\u001b[0m \u001b[0;31m#early_stop = EarlyStopping(monitor='val_loss', patience=5)\u001b[0m\u001b[0;34m\u001b[0m\u001b[0;34m\u001b[0m\u001b[0;34m\u001b[0m\u001b[0m\n\u001b[0;32m----> 3\u001b[0;31m \u001b[0mmodel\u001b[0m\u001b[0;34m.\u001b[0m\u001b[0mfit\u001b[0m\u001b[0;34m(\u001b[0m\u001b[0mx_train\u001b[0m\u001b[0;34m,\u001b[0m \u001b[0my_train\u001b[0m\u001b[0;34m,\u001b[0m \u001b[0mvalidation_data\u001b[0m\u001b[0;34m=\u001b[0m\u001b[0;34m(\u001b[0m\u001b[0mx_test\u001b[0m\u001b[0;34m,\u001b[0m \u001b[0my_test\u001b[0m\u001b[0;34m)\u001b[0m\u001b[0;34m,\u001b[0m \u001b[0mepochs\u001b[0m\u001b[0;34m=\u001b[0m\u001b[0;36m1000\u001b[0m\u001b[0;34m,\u001b[0m \u001b[0mbatch_size\u001b[0m\u001b[0;34m=\u001b[0m\u001b[0;36m64\u001b[0m\u001b[0;34m,\u001b[0m \u001b[0mverbose\u001b[0m\u001b[0;34m=\u001b[0m\u001b[0;36m1\u001b[0m\u001b[0;34m)\u001b[0m\u001b[0;34m\u001b[0m\u001b[0;34m\u001b[0m\u001b[0m\n\u001b[0m",
      "\u001b[0;32m/opt/anaconda3/lib/python3.7/site-packages/tensorflow/python/keras/engine/training.py\u001b[0m in \u001b[0;36mfit\u001b[0;34m(self, x, y, batch_size, epochs, verbose, callbacks, validation_split, validation_data, shuffle, class_weight, sample_weight, initial_epoch, steps_per_epoch, validation_steps, validation_batch_size, validation_freq, max_queue_size, workers, use_multiprocessing)\u001b[0m\n\u001b[1;32m   1098\u001b[0m                 _r=1):\n\u001b[1;32m   1099\u001b[0m               \u001b[0mcallbacks\u001b[0m\u001b[0;34m.\u001b[0m\u001b[0mon_train_batch_begin\u001b[0m\u001b[0;34m(\u001b[0m\u001b[0mstep\u001b[0m\u001b[0;34m)\u001b[0m\u001b[0;34m\u001b[0m\u001b[0;34m\u001b[0m\u001b[0m\n\u001b[0;32m-> 1100\u001b[0;31m               \u001b[0mtmp_logs\u001b[0m \u001b[0;34m=\u001b[0m \u001b[0mself\u001b[0m\u001b[0;34m.\u001b[0m\u001b[0mtrain_function\u001b[0m\u001b[0;34m(\u001b[0m\u001b[0miterator\u001b[0m\u001b[0;34m)\u001b[0m\u001b[0;34m\u001b[0m\u001b[0;34m\u001b[0m\u001b[0m\n\u001b[0m\u001b[1;32m   1101\u001b[0m               \u001b[0;32mif\u001b[0m \u001b[0mdata_handler\u001b[0m\u001b[0;34m.\u001b[0m\u001b[0mshould_sync\u001b[0m\u001b[0;34m:\u001b[0m\u001b[0;34m\u001b[0m\u001b[0;34m\u001b[0m\u001b[0m\n\u001b[1;32m   1102\u001b[0m                 \u001b[0mcontext\u001b[0m\u001b[0;34m.\u001b[0m\u001b[0masync_wait\u001b[0m\u001b[0;34m(\u001b[0m\u001b[0;34m)\u001b[0m\u001b[0;34m\u001b[0m\u001b[0;34m\u001b[0m\u001b[0m\n",
      "\u001b[0;32m/opt/anaconda3/lib/python3.7/site-packages/tensorflow/python/eager/def_function.py\u001b[0m in \u001b[0;36m__call__\u001b[0;34m(self, *args, **kwds)\u001b[0m\n\u001b[1;32m    826\u001b[0m     \u001b[0mtracing_count\u001b[0m \u001b[0;34m=\u001b[0m \u001b[0mself\u001b[0m\u001b[0;34m.\u001b[0m\u001b[0mexperimental_get_tracing_count\u001b[0m\u001b[0;34m(\u001b[0m\u001b[0;34m)\u001b[0m\u001b[0;34m\u001b[0m\u001b[0;34m\u001b[0m\u001b[0m\n\u001b[1;32m    827\u001b[0m     \u001b[0;32mwith\u001b[0m \u001b[0mtrace\u001b[0m\u001b[0;34m.\u001b[0m\u001b[0mTrace\u001b[0m\u001b[0;34m(\u001b[0m\u001b[0mself\u001b[0m\u001b[0;34m.\u001b[0m\u001b[0m_name\u001b[0m\u001b[0;34m)\u001b[0m \u001b[0;32mas\u001b[0m \u001b[0mtm\u001b[0m\u001b[0;34m:\u001b[0m\u001b[0;34m\u001b[0m\u001b[0;34m\u001b[0m\u001b[0m\n\u001b[0;32m--> 828\u001b[0;31m       \u001b[0mresult\u001b[0m \u001b[0;34m=\u001b[0m \u001b[0mself\u001b[0m\u001b[0;34m.\u001b[0m\u001b[0m_call\u001b[0m\u001b[0;34m(\u001b[0m\u001b[0;34m*\u001b[0m\u001b[0margs\u001b[0m\u001b[0;34m,\u001b[0m \u001b[0;34m**\u001b[0m\u001b[0mkwds\u001b[0m\u001b[0;34m)\u001b[0m\u001b[0;34m\u001b[0m\u001b[0;34m\u001b[0m\u001b[0m\n\u001b[0m\u001b[1;32m    829\u001b[0m       \u001b[0mcompiler\u001b[0m \u001b[0;34m=\u001b[0m \u001b[0;34m\"xla\"\u001b[0m \u001b[0;32mif\u001b[0m \u001b[0mself\u001b[0m\u001b[0;34m.\u001b[0m\u001b[0m_experimental_compile\u001b[0m \u001b[0;32melse\u001b[0m \u001b[0;34m\"nonXla\"\u001b[0m\u001b[0;34m\u001b[0m\u001b[0;34m\u001b[0m\u001b[0m\n\u001b[1;32m    830\u001b[0m       \u001b[0mnew_tracing_count\u001b[0m \u001b[0;34m=\u001b[0m \u001b[0mself\u001b[0m\u001b[0;34m.\u001b[0m\u001b[0mexperimental_get_tracing_count\u001b[0m\u001b[0;34m(\u001b[0m\u001b[0;34m)\u001b[0m\u001b[0;34m\u001b[0m\u001b[0;34m\u001b[0m\u001b[0m\n",
      "\u001b[0;32m/opt/anaconda3/lib/python3.7/site-packages/tensorflow/python/eager/def_function.py\u001b[0m in \u001b[0;36m_call\u001b[0;34m(self, *args, **kwds)\u001b[0m\n\u001b[1;32m    853\u001b[0m       \u001b[0;31m# In this case we have created variables on the first call, so we run the\u001b[0m\u001b[0;34m\u001b[0m\u001b[0;34m\u001b[0m\u001b[0;34m\u001b[0m\u001b[0m\n\u001b[1;32m    854\u001b[0m       \u001b[0;31m# defunned version which is guaranteed to never create variables.\u001b[0m\u001b[0;34m\u001b[0m\u001b[0;34m\u001b[0m\u001b[0;34m\u001b[0m\u001b[0m\n\u001b[0;32m--> 855\u001b[0;31m       \u001b[0;32mreturn\u001b[0m \u001b[0mself\u001b[0m\u001b[0;34m.\u001b[0m\u001b[0m_stateless_fn\u001b[0m\u001b[0;34m(\u001b[0m\u001b[0;34m*\u001b[0m\u001b[0margs\u001b[0m\u001b[0;34m,\u001b[0m \u001b[0;34m**\u001b[0m\u001b[0mkwds\u001b[0m\u001b[0;34m)\u001b[0m  \u001b[0;31m# pylint: disable=not-callable\u001b[0m\u001b[0;34m\u001b[0m\u001b[0;34m\u001b[0m\u001b[0m\n\u001b[0m\u001b[1;32m    856\u001b[0m     \u001b[0;32melif\u001b[0m \u001b[0mself\u001b[0m\u001b[0;34m.\u001b[0m\u001b[0m_stateful_fn\u001b[0m \u001b[0;32mis\u001b[0m \u001b[0;32mnot\u001b[0m \u001b[0;32mNone\u001b[0m\u001b[0;34m:\u001b[0m\u001b[0;34m\u001b[0m\u001b[0;34m\u001b[0m\u001b[0m\n\u001b[1;32m    857\u001b[0m       \u001b[0;31m# Release the lock early so that multiple threads can perform the call\u001b[0m\u001b[0;34m\u001b[0m\u001b[0;34m\u001b[0m\u001b[0;34m\u001b[0m\u001b[0m\n",
      "\u001b[0;32m/opt/anaconda3/lib/python3.7/site-packages/tensorflow/python/eager/function.py\u001b[0m in \u001b[0;36m__call__\u001b[0;34m(self, *args, **kwargs)\u001b[0m\n\u001b[1;32m   2941\u001b[0m        filtered_flat_args) = self._maybe_define_function(args, kwargs)\n\u001b[1;32m   2942\u001b[0m     return graph_function._call_flat(\n\u001b[0;32m-> 2943\u001b[0;31m         filtered_flat_args, captured_inputs=graph_function.captured_inputs)  # pylint: disable=protected-access\n\u001b[0m\u001b[1;32m   2944\u001b[0m \u001b[0;34m\u001b[0m\u001b[0m\n\u001b[1;32m   2945\u001b[0m   \u001b[0;34m@\u001b[0m\u001b[0mproperty\u001b[0m\u001b[0;34m\u001b[0m\u001b[0;34m\u001b[0m\u001b[0m\n",
      "\u001b[0;32m/opt/anaconda3/lib/python3.7/site-packages/tensorflow/python/eager/function.py\u001b[0m in \u001b[0;36m_call_flat\u001b[0;34m(self, args, captured_inputs, cancellation_manager)\u001b[0m\n\u001b[1;32m   1917\u001b[0m       \u001b[0;31m# No tape is watching; skip to running the function.\u001b[0m\u001b[0;34m\u001b[0m\u001b[0;34m\u001b[0m\u001b[0;34m\u001b[0m\u001b[0m\n\u001b[1;32m   1918\u001b[0m       return self._build_call_outputs(self._inference_function.call(\n\u001b[0;32m-> 1919\u001b[0;31m           ctx, args, cancellation_manager=cancellation_manager))\n\u001b[0m\u001b[1;32m   1920\u001b[0m     forward_backward = self._select_forward_and_backward_functions(\n\u001b[1;32m   1921\u001b[0m         \u001b[0margs\u001b[0m\u001b[0;34m,\u001b[0m\u001b[0;34m\u001b[0m\u001b[0;34m\u001b[0m\u001b[0m\n",
      "\u001b[0;32m/opt/anaconda3/lib/python3.7/site-packages/tensorflow/python/eager/function.py\u001b[0m in \u001b[0;36mcall\u001b[0;34m(self, ctx, args, cancellation_manager)\u001b[0m\n\u001b[1;32m    558\u001b[0m               \u001b[0minputs\u001b[0m\u001b[0;34m=\u001b[0m\u001b[0margs\u001b[0m\u001b[0;34m,\u001b[0m\u001b[0;34m\u001b[0m\u001b[0;34m\u001b[0m\u001b[0m\n\u001b[1;32m    559\u001b[0m               \u001b[0mattrs\u001b[0m\u001b[0;34m=\u001b[0m\u001b[0mattrs\u001b[0m\u001b[0;34m,\u001b[0m\u001b[0;34m\u001b[0m\u001b[0;34m\u001b[0m\u001b[0m\n\u001b[0;32m--> 560\u001b[0;31m               ctx=ctx)\n\u001b[0m\u001b[1;32m    561\u001b[0m         \u001b[0;32melse\u001b[0m\u001b[0;34m:\u001b[0m\u001b[0;34m\u001b[0m\u001b[0;34m\u001b[0m\u001b[0m\n\u001b[1;32m    562\u001b[0m           outputs = execute.execute_with_cancellation(\n",
      "\u001b[0;32m/opt/anaconda3/lib/python3.7/site-packages/tensorflow/python/eager/execute.py\u001b[0m in \u001b[0;36mquick_execute\u001b[0;34m(op_name, num_outputs, inputs, attrs, ctx, name)\u001b[0m\n\u001b[1;32m     58\u001b[0m     \u001b[0mctx\u001b[0m\u001b[0;34m.\u001b[0m\u001b[0mensure_initialized\u001b[0m\u001b[0;34m(\u001b[0m\u001b[0;34m)\u001b[0m\u001b[0;34m\u001b[0m\u001b[0;34m\u001b[0m\u001b[0m\n\u001b[1;32m     59\u001b[0m     tensors = pywrap_tfe.TFE_Py_Execute(ctx._handle, device_name, op_name,\n\u001b[0;32m---> 60\u001b[0;31m                                         inputs, attrs, num_outputs)\n\u001b[0m\u001b[1;32m     61\u001b[0m   \u001b[0;32mexcept\u001b[0m \u001b[0mcore\u001b[0m\u001b[0;34m.\u001b[0m\u001b[0m_NotOkStatusException\u001b[0m \u001b[0;32mas\u001b[0m \u001b[0me\u001b[0m\u001b[0;34m:\u001b[0m\u001b[0;34m\u001b[0m\u001b[0;34m\u001b[0m\u001b[0m\n\u001b[1;32m     62\u001b[0m     \u001b[0;32mif\u001b[0m \u001b[0mname\u001b[0m \u001b[0;32mis\u001b[0m \u001b[0;32mnot\u001b[0m \u001b[0;32mNone\u001b[0m\u001b[0;34m:\u001b[0m\u001b[0;34m\u001b[0m\u001b[0;34m\u001b[0m\u001b[0m\n",
      "\u001b[0;31mKeyboardInterrupt\u001b[0m: "
     ]
    }
   ],
   "source": [
    "model.compile(loss='mse', optimizer='adam', metrics=['mae', 'accuracy'])\n",
    "#early_stop = EarlyStopping(monitor='val_loss', patience=5)\n",
    "model.fit(x_train, y_train, validation_data=(x_test, y_test), epochs=1000, batch_size=64, verbose=1)"
   ]
  },
  {
   "cell_type": "code",
   "execution_count": 83,
   "metadata": {},
   "outputs": [],
   "source": [
    "pred = model.predict(x_test, batch_size=1)"
   ]
  },
  {
   "cell_type": "code",
   "execution_count": 85,
   "metadata": {},
   "outputs": [
    {
     "ename": "ValueError",
     "evalue": "x and y can be no greater than 2-D, but have shapes (1152,) and (1152, 120, 17)",
     "output_type": "error",
     "traceback": [
      "\u001b[0;31m---------------------------------------------------------------------------\u001b[0m",
      "\u001b[0;31mValueError\u001b[0m                                Traceback (most recent call last)",
      "\u001b[0;32m<ipython-input-85-64091f437343>\u001b[0m in \u001b[0;36m<module>\u001b[0;34m\u001b[0m\n\u001b[1;32m      4\u001b[0m \u001b[0mplt\u001b[0m\u001b[0;34m.\u001b[0m\u001b[0mylabel\u001b[0m\u001b[0;34m(\u001b[0m\u001b[0;34m'yy'\u001b[0m\u001b[0;34m)\u001b[0m\u001b[0;34m\u001b[0m\u001b[0;34m\u001b[0m\u001b[0m\n\u001b[1;32m      5\u001b[0m \u001b[0mplt\u001b[0m\u001b[0;34m.\u001b[0m\u001b[0mxlabel\u001b[0m\u001b[0;34m(\u001b[0m\u001b[0;34m'xx'\u001b[0m\u001b[0;34m)\u001b[0m\u001b[0;34m\u001b[0m\u001b[0;34m\u001b[0m\u001b[0m\n\u001b[0;32m----> 6\u001b[0;31m \u001b[0mplt\u001b[0m\u001b[0;34m.\u001b[0m\u001b[0mplot\u001b[0m\u001b[0;34m(\u001b[0m\u001b[0my_test\u001b[0m\u001b[0;34m,\u001b[0m \u001b[0mlabel\u001b[0m\u001b[0;34m=\u001b[0m\u001b[0;34m'actual'\u001b[0m\u001b[0;34m,\u001b[0m \u001b[0mcolor\u001b[0m \u001b[0;34m=\u001b[0m \u001b[0;34m'red'\u001b[0m\u001b[0;34m)\u001b[0m\u001b[0;34m\u001b[0m\u001b[0;34m\u001b[0m\u001b[0m\n\u001b[0m\u001b[1;32m      7\u001b[0m \u001b[0mplt\u001b[0m\u001b[0;34m.\u001b[0m\u001b[0mplot\u001b[0m\u001b[0;34m(\u001b[0m\u001b[0mpred\u001b[0m\u001b[0;34m,\u001b[0m \u001b[0mlabel\u001b[0m\u001b[0;34m=\u001b[0m\u001b[0;34m'prediction'\u001b[0m\u001b[0;34m,\u001b[0m \u001b[0mcolor\u001b[0m \u001b[0;34m=\u001b[0m \u001b[0;34m'green'\u001b[0m\u001b[0;34m)\u001b[0m\u001b[0;34m\u001b[0m\u001b[0;34m\u001b[0m\u001b[0m\n\u001b[1;32m      8\u001b[0m \u001b[0mplt\u001b[0m\u001b[0;34m.\u001b[0m\u001b[0mgrid\u001b[0m\u001b[0;34m(\u001b[0m\u001b[0;34m)\u001b[0m\u001b[0;34m\u001b[0m\u001b[0;34m\u001b[0m\u001b[0m\n",
      "\u001b[0;32m/opt/anaconda3/lib/python3.7/site-packages/matplotlib/pyplot.py\u001b[0m in \u001b[0;36mplot\u001b[0;34m(scalex, scaley, data, *args, **kwargs)\u001b[0m\n\u001b[1;32m   2794\u001b[0m     return gca().plot(\n\u001b[1;32m   2795\u001b[0m         *args, scalex=scalex, scaley=scaley, **({\"data\": data} if data\n\u001b[0;32m-> 2796\u001b[0;31m         is not None else {}), **kwargs)\n\u001b[0m\u001b[1;32m   2797\u001b[0m \u001b[0;34m\u001b[0m\u001b[0m\n\u001b[1;32m   2798\u001b[0m \u001b[0;34m\u001b[0m\u001b[0m\n",
      "\u001b[0;32m/opt/anaconda3/lib/python3.7/site-packages/matplotlib/axes/_axes.py\u001b[0m in \u001b[0;36mplot\u001b[0;34m(self, scalex, scaley, data, *args, **kwargs)\u001b[0m\n\u001b[1;32m   1663\u001b[0m         \"\"\"\n\u001b[1;32m   1664\u001b[0m         \u001b[0mkwargs\u001b[0m \u001b[0;34m=\u001b[0m \u001b[0mcbook\u001b[0m\u001b[0;34m.\u001b[0m\u001b[0mnormalize_kwargs\u001b[0m\u001b[0;34m(\u001b[0m\u001b[0mkwargs\u001b[0m\u001b[0;34m,\u001b[0m \u001b[0mmlines\u001b[0m\u001b[0;34m.\u001b[0m\u001b[0mLine2D\u001b[0m\u001b[0;34m.\u001b[0m\u001b[0m_alias_map\u001b[0m\u001b[0;34m)\u001b[0m\u001b[0;34m\u001b[0m\u001b[0;34m\u001b[0m\u001b[0m\n\u001b[0;32m-> 1665\u001b[0;31m         \u001b[0mlines\u001b[0m \u001b[0;34m=\u001b[0m \u001b[0;34m[\u001b[0m\u001b[0;34m*\u001b[0m\u001b[0mself\u001b[0m\u001b[0;34m.\u001b[0m\u001b[0m_get_lines\u001b[0m\u001b[0;34m(\u001b[0m\u001b[0;34m*\u001b[0m\u001b[0margs\u001b[0m\u001b[0;34m,\u001b[0m \u001b[0mdata\u001b[0m\u001b[0;34m=\u001b[0m\u001b[0mdata\u001b[0m\u001b[0;34m,\u001b[0m \u001b[0;34m**\u001b[0m\u001b[0mkwargs\u001b[0m\u001b[0;34m)\u001b[0m\u001b[0;34m]\u001b[0m\u001b[0;34m\u001b[0m\u001b[0;34m\u001b[0m\u001b[0m\n\u001b[0m\u001b[1;32m   1666\u001b[0m         \u001b[0;32mfor\u001b[0m \u001b[0mline\u001b[0m \u001b[0;32min\u001b[0m \u001b[0mlines\u001b[0m\u001b[0;34m:\u001b[0m\u001b[0;34m\u001b[0m\u001b[0;34m\u001b[0m\u001b[0m\n\u001b[1;32m   1667\u001b[0m             \u001b[0mself\u001b[0m\u001b[0;34m.\u001b[0m\u001b[0madd_line\u001b[0m\u001b[0;34m(\u001b[0m\u001b[0mline\u001b[0m\u001b[0;34m)\u001b[0m\u001b[0;34m\u001b[0m\u001b[0;34m\u001b[0m\u001b[0m\n",
      "\u001b[0;32m/opt/anaconda3/lib/python3.7/site-packages/matplotlib/axes/_base.py\u001b[0m in \u001b[0;36m__call__\u001b[0;34m(self, *args, **kwargs)\u001b[0m\n\u001b[1;32m    223\u001b[0m                 \u001b[0mthis\u001b[0m \u001b[0;34m+=\u001b[0m \u001b[0margs\u001b[0m\u001b[0;34m[\u001b[0m\u001b[0;36m0\u001b[0m\u001b[0;34m]\u001b[0m\u001b[0;34m,\u001b[0m\u001b[0;34m\u001b[0m\u001b[0;34m\u001b[0m\u001b[0m\n\u001b[1;32m    224\u001b[0m                 \u001b[0margs\u001b[0m \u001b[0;34m=\u001b[0m \u001b[0margs\u001b[0m\u001b[0;34m[\u001b[0m\u001b[0;36m1\u001b[0m\u001b[0;34m:\u001b[0m\u001b[0;34m]\u001b[0m\u001b[0;34m\u001b[0m\u001b[0;34m\u001b[0m\u001b[0m\n\u001b[0;32m--> 225\u001b[0;31m             \u001b[0;32myield\u001b[0m \u001b[0;32mfrom\u001b[0m \u001b[0mself\u001b[0m\u001b[0;34m.\u001b[0m\u001b[0m_plot_args\u001b[0m\u001b[0;34m(\u001b[0m\u001b[0mthis\u001b[0m\u001b[0;34m,\u001b[0m \u001b[0mkwargs\u001b[0m\u001b[0;34m)\u001b[0m\u001b[0;34m\u001b[0m\u001b[0;34m\u001b[0m\u001b[0m\n\u001b[0m\u001b[1;32m    226\u001b[0m \u001b[0;34m\u001b[0m\u001b[0m\n\u001b[1;32m    227\u001b[0m     \u001b[0;32mdef\u001b[0m \u001b[0mget_next_color\u001b[0m\u001b[0;34m(\u001b[0m\u001b[0mself\u001b[0m\u001b[0;34m)\u001b[0m\u001b[0;34m:\u001b[0m\u001b[0;34m\u001b[0m\u001b[0;34m\u001b[0m\u001b[0m\n",
      "\u001b[0;32m/opt/anaconda3/lib/python3.7/site-packages/matplotlib/axes/_base.py\u001b[0m in \u001b[0;36m_plot_args\u001b[0;34m(self, tup, kwargs)\u001b[0m\n\u001b[1;32m    389\u001b[0m             \u001b[0mx\u001b[0m\u001b[0;34m,\u001b[0m \u001b[0my\u001b[0m \u001b[0;34m=\u001b[0m \u001b[0mindex_of\u001b[0m\u001b[0;34m(\u001b[0m\u001b[0mtup\u001b[0m\u001b[0;34m[\u001b[0m\u001b[0;34m-\u001b[0m\u001b[0;36m1\u001b[0m\u001b[0;34m]\u001b[0m\u001b[0;34m)\u001b[0m\u001b[0;34m\u001b[0m\u001b[0;34m\u001b[0m\u001b[0m\n\u001b[1;32m    390\u001b[0m \u001b[0;34m\u001b[0m\u001b[0m\n\u001b[0;32m--> 391\u001b[0;31m         \u001b[0mx\u001b[0m\u001b[0;34m,\u001b[0m \u001b[0my\u001b[0m \u001b[0;34m=\u001b[0m \u001b[0mself\u001b[0m\u001b[0;34m.\u001b[0m\u001b[0m_xy_from_xy\u001b[0m\u001b[0;34m(\u001b[0m\u001b[0mx\u001b[0m\u001b[0;34m,\u001b[0m \u001b[0my\u001b[0m\u001b[0;34m)\u001b[0m\u001b[0;34m\u001b[0m\u001b[0;34m\u001b[0m\u001b[0m\n\u001b[0m\u001b[1;32m    392\u001b[0m \u001b[0;34m\u001b[0m\u001b[0m\n\u001b[1;32m    393\u001b[0m         \u001b[0;32mif\u001b[0m \u001b[0mself\u001b[0m\u001b[0;34m.\u001b[0m\u001b[0mcommand\u001b[0m \u001b[0;34m==\u001b[0m \u001b[0;34m'plot'\u001b[0m\u001b[0;34m:\u001b[0m\u001b[0;34m\u001b[0m\u001b[0;34m\u001b[0m\u001b[0m\n",
      "\u001b[0;32m/opt/anaconda3/lib/python3.7/site-packages/matplotlib/axes/_base.py\u001b[0m in \u001b[0;36m_xy_from_xy\u001b[0;34m(self, x, y)\u001b[0m\n\u001b[1;32m    271\u001b[0m         \u001b[0;32mif\u001b[0m \u001b[0mx\u001b[0m\u001b[0;34m.\u001b[0m\u001b[0mndim\u001b[0m \u001b[0;34m>\u001b[0m \u001b[0;36m2\u001b[0m \u001b[0;32mor\u001b[0m \u001b[0my\u001b[0m\u001b[0;34m.\u001b[0m\u001b[0mndim\u001b[0m \u001b[0;34m>\u001b[0m \u001b[0;36m2\u001b[0m\u001b[0;34m:\u001b[0m\u001b[0;34m\u001b[0m\u001b[0;34m\u001b[0m\u001b[0m\n\u001b[1;32m    272\u001b[0m             raise ValueError(\"x and y can be no greater than 2-D, but have \"\n\u001b[0;32m--> 273\u001b[0;31m                              \"shapes {} and {}\".format(x.shape, y.shape))\n\u001b[0m\u001b[1;32m    274\u001b[0m \u001b[0;34m\u001b[0m\u001b[0m\n\u001b[1;32m    275\u001b[0m         \u001b[0;32mif\u001b[0m \u001b[0mx\u001b[0m\u001b[0;34m.\u001b[0m\u001b[0mndim\u001b[0m \u001b[0;34m==\u001b[0m \u001b[0;36m1\u001b[0m\u001b[0;34m:\u001b[0m\u001b[0;34m\u001b[0m\u001b[0;34m\u001b[0m\u001b[0m\n",
      "\u001b[0;31mValueError\u001b[0m: x and y can be no greater than 2-D, but have shapes (1152,) and (1152, 120, 17)"
     ]
    },
    {
     "data": {
      "image/png": "[encoded data removed]",
      "text/plain": [
       "<Figure size 864x432 with 1 Axes>"
      ]
     },
     "metadata": {
      "needs_background": "light"
     },
     "output_type": "display_data"
    }
   ],
   "source": [
    "plt.figure(figsize=(12,6))\n",
    "plt.title('pose estimation')\n",
    "plt.ylabel('yy')\n",
    "plt.xlabel('xx')\n",
    "plt.plot(y_test, label='actual', color = 'red')\n",
    "plt.plot(pred, label='prediction', color = 'green')\n",
    "plt.grid()\n",
    "plt.legend()\n",
    "\n",
    "plt.show()"
   ]
  },
  {
   "cell_type": "code",
   "execution_count": null,
   "metadata": {},
   "outputs": [],
   "source": []
  }
 ],
 "metadata": {
  "kernelspec": {
   "display_name": "Python 3",
   "language": "python",
   "name": "python3"
  },
  "language_info": {
   "codemirror_mode": {
    "name": "ipython",
    "version": 3
   },
   "file_extension": ".py",
   "mimetype": "text/x-python",
   "name": "python",
   "nbconvert_exporter": "python",
   "pygments_lexer": "ipython3",
   "version": "3.7.6"
  }
 },
 "nbformat": 4,
 "nbformat_minor": 4
}
